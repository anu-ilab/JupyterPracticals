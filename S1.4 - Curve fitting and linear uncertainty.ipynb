{
 "cells": [
  {
   "cell_type": "markdown",
   "metadata": {
    "deletable": true,
    "editable": true
   },
   "source": [
    "# 1.4: Curve fitting to noisy data #"
   ]
  },
  {
   "cell_type": "markdown",
   "metadata": {
    "deletable": true,
    "editable": true
   },
   "source": [
    "*Andrew Valentine & Malcolm Sambridge - Research School of Earth Sciences, The Australian National University - Last updated Sept. 2019*"
   ]
  },
  {
   "cell_type": "markdown",
   "metadata": {
    "deletable": true,
    "editable": true
   },
   "source": [
    "Imagine that you have a parameter estimation problem where you wish to\n",
    "fit the following function to some observations of\n",
    "$x_i, y_i, (i=1\\dots,N)$\n",
    "\n",
    "$$ y(x) = \\frac{1}{100}\\left[ \\frac{m_1}{5} + \\frac{m_2}{5}x +\\frac{m_3}{16}(x^2 + 1600\\sin(\\frac{x}{2\\pi})) \\right ]. $$\n",
    "\n",
    "<img src=\"Figures/Example-data-curve.png\" alt=\"Example of test data for regression problem with true curve (blue). Here the $x$ values are generated uniformly randomly between 0 and 120, while the $y$ values are equal to the curve height plus a Gaussian random error with $\\sigma_y = 0.75$, i.e. $y_{obs} = y_{true} + \\epsilon$, where $\\epsilon \\sim N(0, \\sigma_y^2)$.\" width=\"600\"/>\n",
    "\n",
    "Figure 1. Example of test data for regression problem with true curve (blue). Here the $x$ values are generated uniformly randomly between 0 and 120, while the $y$ values are equal to the curve height plus a Gaussian random error with $\\sigma_y = 0.75$, i.e. $y_{obs} = y_{true} + \\epsilon$, where $\\epsilon \\sim N(0, \\sigma_y^2)$.\n",
    "\n",
    "In Figure 1 I have used $m_1 = m_2 = m_3 = 1.0$ to generate the true curve.\n"
   ]
  },
  {
   "cell_type": "markdown",
   "metadata": {
    "deletable": true,
    "editable": true
   },
   "source": [
    "First load some libraries."
   ]
  },
  {
   "cell_type": "code",
   "execution_count": 1,
   "metadata": {
    "deletable": true,
    "editable": true
   },
   "outputs": [],
   "source": [
    "%matplotlib inline\n",
    "import matplotlib.pyplot as plt\n",
    "from scipy import stats\n",
    "import numpy as np\n",
    "import math\n",
    "import pickle\n",
    "from anu_inversion_course import plotcovellipse as pc"
   ]
  },
  {
   "cell_type": "markdown",
   "metadata": {
    "deletable": true,
    "editable": true
   },
   "source": [
    "We now read in a data set of 12 value for this curve and plot them. This\n",
    "    is the test data for your problem."
   ]
  },
  {
   "cell_type": "code",
   "execution_count": 2,
   "metadata": {
    "collapsed": false,
    "deletable": true,
    "editable": true,
    "jupyter": {
     "outputs_hidden": false
    }
   },
   "outputs": [
    {
     "data": {
      "image/png": "[encoded data removed]",
      "text/plain": [
       "<Figure size 648x432 with 1 Axes>"
      ]
     },
     "metadata": {
      "needs_background": "light"
     },
     "output_type": "display_data"
    }
   ],
   "source": [
    "xmin, xmax, nres = 1.0, 120.0, 100\n",
    "#\n",
    "# read in observations\n",
    "#\n",
    "pickle_off = open(\"datasets/data_fitting.pickle\",\"rb\")\n",
    "[yobs,xobs,x_fine,y_fine] = pickle.load(pickle_off)\n",
    "sigmay = 0.75\n",
    "\n",
    "# ----------------------------------------------------------------------------   \n",
    "# plot data\n",
    "# ----------------------------------------------------------------------------\n",
    "\n",
    "fig, ax = plt.subplots(figsize=(9,6))\n",
    "\n",
    "ax.plot(x_fine, y_fine,label='True curve',color='b')\n",
    "ax.errorbar(xobs,yobs,yerr=sigmay,fmt='o',color=(0, 0, 0, 0.25),label='Observations')\n",
    "plt.legend(loc='upper left',framealpha=0.7)\n",
    "plt.title('Data and true curve')\n",
    "plt.xlabel('X')\n",
    "plt.ylabel('Y')\n",
    "plt.show()"
   ]
  },
  {
   "cell_type": "markdown",
   "metadata": {
    "deletable": true,
    "editable": true
   },
   "source": [
    "**Task 1:** \n",
    "    We want to estimate the parameters $(m_1, m_2, m_3)$ from the\n",
    "    observations. This problem can be written in vector form as\n",
    "    ${\\bf d} = G {\\bf m}$. \n",
    "    \n",
    "   Describe what are ${\\bf d}$, ${\\bf m}$ and\n",
    "    $G$ for this problem?\n",
    "    \n",
    "   What dimensions does the $G$ matrix have? \n",
    "    \n",
    "   Is this a linear or nonlinear parameter estimation problem and why? \n",
    "    \n",
    "The G matrix can be used to find the $y$ values of the curve from the $x$ values and the $m$ parameters, through ${\\bf d} = G {\\bf m}$ \n",
    "\n",
    "Calculate\n",
    "    the $G$ matrix for this problem corresponding to the 12 $x$ values of the data.\n",
    "   "
   ]
  },
  {
   "cell_type": "code",
   "execution_count": 3,
   "metadata": {
    "deletable": true,
    "editable": true
   },
   "outputs": [],
   "source": [
    "# Try it here! You can insert more cells by selecting Cell > Insert Cell Above/Below from the menu\n",
    "# bar, or by pressing Esc to enter command mode and then hitting A or B (for above/below). \n",
    "\n",
    "\n"
   ]
  },
  {
   "cell_type": "markdown",
   "metadata": {
    "deletable": true,
    "editable": true
   },
   "source": [
    "**Task 2:** Use the $G$ matrix and your data to estimate a least squares\n",
    "    solution for the parameters $(m_1,m_2,m_3)$. Calculate the curve\n",
    "    that this solution predicts and plot it with the data, its\n",
    "    errors and the true curve."
   ]
  },
  {
   "cell_type": "code",
   "execution_count": 4,
   "metadata": {
    "collapsed": false,
    "deletable": true,
    "editable": true,
    "jupyter": {
     "outputs_hidden": false
    }
   },
   "outputs": [],
   "source": [
    "# Try it here! You can insert more cells by selecting Cell > Insert Cell Above/Below from the menu\n",
    "# bar, or by pressing Esc to enter command mode and then hitting A or B (for above/below). \n",
    "\n"
   ]
  },
  {
   "cell_type": "markdown",
   "metadata": {
    "deletable": true,
    "editable": true
   },
   "source": [
    "**Task 3:** Calculate the Chi-square value for this problem. Is this a good\n",
    "        enough fit to data? Calculate the p-value for this goodness of\n",
    "        fit. What do you conclude from the p-value?\n",
    "\n",
    "Repeat the calculation with the noise error, $\\sigma_y=0.25$.\n",
    "        How would this change the Chi-square and p-value? What would you\n",
    "        conclude in this case?\n",
    "\n",
    "Repeat the calculation with the noise error, $\\sigma_y=2.25$.\n",
    "        How would this change the Chi-square and p-value? What would you\n",
    "        conclude in this case?"
   ]
  },
  {
   "cell_type": "code",
   "execution_count": 5,
   "metadata": {
    "collapsed": false,
    "deletable": true,
    "editable": true,
    "jupyter": {
     "outputs_hidden": false
    }
   },
   "outputs": [],
   "source": [
    "# Try it here! You can insert more cells by selecting Cell > Insert Cell Above/Below from the menu\n",
    "# bar, or by pressing Esc to enter command mode and then hitting A or B (for above/below). \n",
    "\n"
   ]
  },
  {
   "cell_type": "markdown",
   "metadata": {
    "deletable": true,
    "editable": true
   },
   "source": [
    "**Task 4:** Calculate model covariance matrix for the problem and from this find\n",
    "    the 95% confidence intervals for each parameter $m_1, m_2$ and\n",
    "    $m_3$. Calculate the model correlation matrix. Do you see any\n",
    "    significant trade-off in the model parameter errors? Plot the\n",
    "    confidence ellipses for the $(m_1, m_2)$, $(m_2, m_3)$ and\n",
    "    $(m_1, m_3)$ planes. How do any trade-offs you observed in the model\n",
    "    covariance matrix manifest themselves in the plots of the covariance\n",
    "    matrix?"
   ]
  },
  {
   "cell_type": "code",
   "execution_count": 6,
   "metadata": {
    "collapsed": false,
    "deletable": true,
    "editable": true,
    "jupyter": {
     "outputs_hidden": false
    }
   },
   "outputs": [],
   "source": [
    "# Try it here! You can insert more cells by selecting Cell > Insert Cell Above/Below from the menu\n",
    "# bar, or by pressing Esc to enter command mode and then hitting A or B (for above/below). \n",
    "\n"
   ]
  },
  {
   "cell_type": "markdown",
   "metadata": {
    "deletable": true,
    "editable": true
   },
   "source": [
    "**Task 5:** Generate 1000 feasible solutions for the model parameters and for\n",
    "    each one generate and plot the predicted curves, with the data and\n",
    "    the true curve from the least squares solution.\n",
    "    \n",
    "If you multiply the `G` matrix by the model vector `m`, it will give you the predicted y values at the x values of the data. Using only these x values will create a crude plot of the curve, i.e. by joining together just 12 predicted y values. To get a smoother curve you can generate a new `G_fine` matrix using a much finer grid of x values between 1 and 120. This already exists in the array `x_fine`. If you build a matrix `G_fine` using `x_fine` it will be a $120\\times 3$ matrix. By multiplying `G_fine`  by each of your feasible solutions `m` and then plotting the y values obtained, you will get a better representation of each oscillating curve."
   ]
  },
  {
   "cell_type": "code",
   "execution_count": 7,
   "metadata": {
    "collapsed": false,
    "deletable": true,
    "editable": true,
    "jupyter": {
     "outputs_hidden": false
    }
   },
   "outputs": [],
   "source": [
    "# Try it here! You can insert more cells by selecting Cell > Insert Cell Above/Below from the menu\n",
    "# bar, or by pressing Esc to enter command mode and then hitting A or B (for above/below). \n",
    "\n",
    "#"
   ]
  },
  {
   "cell_type": "markdown",
   "metadata": {},
   "source": [
    "**Task 6** With feasible solutions calculated in this way we could investigate how the data constrain any other property of either the model parameter or the data. \n",
    "\n",
    "For example plot the histogram of the predicted curves sampled at $X=100$. What does this tell you about the predicted Y values at this value of X?\n",
    "\n",
    "Now plot the histogram of the variable $z=m_1+m_2^2$ from the feasible solutions. What does this tell you about constraint on $z$ provided by the data? Note that we have not actually solved for $z$ directly, but found its histogram from the feasible values of the model parameters."
   ]
  },
  {
   "cell_type": "code",
   "execution_count": 8,
   "metadata": {
    "collapsed": false,
    "editable": true,
    "jupyter": {
     "outputs_hidden": false
    }
   },
   "outputs": [],
   "source": [
    "# Try it here! You can insert more cells by selecting Cell > Insert Cell Above/Below from the menu\n",
    "# bar, or by pressing Esc to enter command mode and then hitting A or B (for above/below). \n",
    "\n",
    "#"
   ]
  },
  {
   "cell_type": "markdown",
   "metadata": {
    "deletable": true,
    "editable": true
   },
   "source": [
    "**Task 7**  Repeat the calculation of the model covariance matrix and 95%\n",
    "    Confidence intervals but assuming data errors are smaller than they actually are. Set $\\sigma_y = 0.25$. What\n",
    "    do you notice about each these new error estimates? How would you\n",
    "    rectify the situation to get reasonable model parameter errors?"
   ]
  },
  {
   "cell_type": "code",
   "execution_count": 9,
   "metadata": {
    "collapsed": false,
    "deletable": true,
    "editable": true,
    "jupyter": {
     "outputs_hidden": false
    }
   },
   "outputs": [],
   "source": [
    "# Try it here! You can insert more cells by selecting Cell > Insert Cell Above/Below from the menu\n",
    "# bar, or by pressing Esc to enter command mode and then hitting A or B (for above/below). \n",
    "\n",
    "#"
   ]
  },
  {
   "cell_type": "code",
   "execution_count": null,
   "metadata": {
    "deletable": true,
    "editable": true
   },
   "outputs": [],
   "source": []
  }
 ],
 "metadata": {
  "kernelspec": {
   "display_name": "Python 3 (ipykernel)",
   "language": "python",
   "name": "python3"
  },
  "language_info": {
   "codemirror_mode": {
    "name": "ipython",
    "version": 3
   },
   "file_extension": ".py",
   "mimetype": "text/x-python",
   "name": "python",
   "nbconvert_exporter": "python",
   "pygments_lexer": "ipython3",
   "version": "3.9.7"
  }
 },
 "nbformat": 4,
 "nbformat_minor": 4
}
