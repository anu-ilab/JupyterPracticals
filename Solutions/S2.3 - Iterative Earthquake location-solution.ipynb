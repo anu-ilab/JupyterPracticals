{
 "cells": [
  {
   "cell_type": "markdown",
   "metadata": {},
   "source": [
    "# 2.3: Nonlinear parameter estimation: Iterative Earthquake location#"
   ]
  },
  {
   "cell_type": "markdown",
   "metadata": {},
   "source": [
    "*Andrew Valentine & Malcolm Sambridge - Research School of Earth Sciences, The Australian National University - Last updated Sept. 2019*"
   ]
  },
  {
   "cell_type": "markdown",
   "metadata": {},
   "source": [
    "In this practical, we will look at a nonlinear inverse problem that requires an iterative solution. \n",
    "\n",
    "As an example, we will consider is earthquake location.\n",
    "\n",
    "Specifically, the practical is to write a python script to iteratively update an earthquake location for the $(x,y,z)$ and origin time, $t$.  Use a homogeneous crustal Earth model with wave speed, v=5.4 km/s. The tasks to be performed are:\n",
    "\n",
    "1. Read in 10 seismic stations at locations on a +-30km box in (x,y) at the earth’s surface together with two sets of arrival times from the source to each station, one with noise added and one without.\n",
    "\n",
    "2. Choose a random starting guess inside the box and determine expressions for each entry of the 10 x 4 Derivative matrix and build the G matrix. Build the data covariance matrix for independent Gaussian errors with $\\sigma=0.2$\n",
    "\n",
    "3. Apply the least squares iterative solution to both the noisy and noiseless data sets. Decide how many iterations to let it run for.\n",
    "\n",
    "4. Make a plot showing the source location at each iteration for each case.\n",
    "\n",
    "5. Make a table of the residuals vs iteration for each case.\n",
    "\n",
    "6. Calculate and plot the model covariance matrices for each pair of parameters at your final solution.\n",
    "\n",
    "Things to consider. Does the iterative algorithm converge to a good enough solution? Does this solution fit teh data adequately? How many iterations does it take? What happens if you put the starting solution far from the actual earthquake location? "
   ]
  },
  {
   "cell_type": "code",
   "execution_count": 35,
   "metadata": {},
   "outputs": [],
   "source": [
    "%matplotlib inline\n",
    "import numpy as np\n",
    "import matplotlib.pyplot as plt\n",
    "from scipy import stats\n",
    "from inversionCourse import plotcovellipse as pc\n",
    "import pickle"
   ]
  },
  {
   "cell_type": "code",
   "execution_count": 36,
   "metadata": {},
   "outputs": [
    {
     "data": {
      "image/png": "[encoded data removed]",
      "text/plain": [
       "<Figure size 648x432 with 1 Axes>"
      ]
     },
     "metadata": {
      "needs_background": "light"
     },
     "output_type": "display_data"
    },
    {
     "name": "stdout",
     "output_type": "stream",
     "text": [
      " tobs\n",
      " [ 9.31979913 10.67036112  7.91562913 11.80824099 11.13594735  9.50326285\n",
      " 10.56990629 12.26874052  9.99586708  8.01971903]\n",
      " tobsn\n",
      " [ 9.14788778 10.69212619  7.90166076 11.8822169  11.07486658  9.60494135\n",
      " 10.17896718 12.28384527 10.04709788  8.04154611]\n"
     ]
    }
   ],
   "source": [
    "# Try it here! You can insert more cells by selecting Cell > Insert Cell Above/Below from the menu\n",
    "# bar, or by pressing Esc to enter command mode and then hitting A or B (for above/below). \n",
    "\n",
    "# Read in 10 seismic stations at random locations on a +-30km box in (x,y) at the earth’s surface together \n",
    "# with two sets of arrival times from the source to each station, one with noise added and one without.\n",
    "\n",
    "pickle_off = open(\"Datasets/eqdata.pickle\",\"rb\")\n",
    "[tobs,tobsn,sta] = pickle.load(pickle_off)\n",
    "\n",
    "fig, ax = plt.subplots(figsize=(9,6))\n",
    "plt.title('Station locations')\n",
    "ax.scatter(sta.T[0],sta.T[1],color='k')\n",
    "plt.xlim(-30,30)\n",
    "plt.ylim(-30,30)\n",
    "plt.xlabel('X')\n",
    "plt.ylabel('Y')\n",
    "plt.show()\n",
    "print(' tobs\\n',tobs)\n",
    "print(' tobsn\\n',tobsn)"
   ]
  },
  {
   "cell_type": "code",
   "execution_count": 4,
   "metadata": {},
   "outputs": [
    {
     "data": {
      "text/plain": [
       "array([[ 21.61213296,  17.58702205,   0.        ],\n",
       "       [ 14.22642197, -28.63072994,   0.        ],\n",
       "       [ 20.21053493,  -6.60537827,   0.        ],\n",
       "       [-24.80710551,  -6.33197965,   0.        ],\n",
       "       [ -8.31138626,  25.74029442,   0.        ],\n",
       "       [ 11.78488761, -22.09436105,   0.        ],\n",
       "       [ -6.84962065, -22.81985815,   0.        ],\n",
       "       [-25.95333073, -12.16612588,   0.        ],\n",
       "       [  5.04091721,  24.56018806,   0.        ],\n",
       "       [ -2.7209912 ,  -2.01934734,   0.        ]])"
      ]
     },
     "execution_count": 4,
     "metadata": {},
     "output_type": "execute_result"
    }
   ],
   "source": [
    "sta"
   ]
  },
  {
   "cell_type": "markdown",
   "metadata": {},
   "source": [
    "**Task 1** First write a python function to calculate the arrival times of seismic phases at all stations."
   ]
  },
  {
   "cell_type": "code",
   "execution_count": 37,
   "metadata": {},
   "outputs": [
    {
     "name": "stdout",
     "output_type": "stream",
     "text": [
      "[6.36875538 7.73122204 6.06424573 3.5749094  3.96318461 6.50441901\n",
      " 5.26678321 4.43743521 4.66221918 2.08902684] [ 9.31979913 10.67036112  7.91562913 11.80824099 11.13594735  9.50326285\n",
      " 10.56990629 12.26874052  9.99586708  8.01971903]\n"
     ]
    }
   ],
   "source": [
    "# Try it here! You can insert more cells by selecting Cell > Insert Cell Above/Below from the menu\n",
    "# bar, or by pressing Esc to enter command mode and then hitting A or B (for above/below). \n",
    "\n",
    "\n",
    "###########################\n",
    "# Iterative earthquake location example \n",
    "###########################\n",
    "# Build a function to calculate the arrival times of seismic phases at all stations\n",
    "# \n",
    "def calct(sol,sta):\n",
    "    vel = 5.4\n",
    "    d = np.zeros(len(sta))     # define distance matrix shape\n",
    "    for i in range(len(sta)):\n",
    "        dx = sta[i,0]-sol[0]\n",
    "        dy = sta[i,1]-sol[1]\n",
    "        dz = sta[i,2]-sol[2]\n",
    "        d[i] = np.sqrt(dx*dx+dy*dy+dz*dz)\n",
    "    tpred = sol[3] + d/vel\n",
    "    return tpred\n",
    "\n",
    "xstart = [-10.0, 5.0, 5.0, 0.0]     # choose starting guess\n",
    "tpred = calct(xstart,sta)\n",
    "print(tpred,tobs)"
   ]
  },
  {
   "cell_type": "code",
   "execution_count": 38,
   "metadata": {},
   "outputs": [
    {
     "name": "stdout",
     "output_type": "stream",
     "text": [
      "302.0775241664022\n",
      "[ 9.36875538 10.73122204  9.06424573  6.5749094   6.96318461  9.50441901\n",
      "  8.26678321  7.43743521  7.66221918  5.08902684]\n",
      "88.80588686859608\n"
     ]
    }
   ],
   "source": [
    "r = tpred-tobs\n",
    "#print(r)\n",
    "chisq = np.dot(r.T,r)\n",
    "print(chisq)\n",
    "xstart2 = [-10.0, 5.0, 5.0, 3.0]     # choose starting guess\n",
    "tpred2 = calct(xstart2,sta)\n",
    "print(tpred2)\n",
    "r2 = tpred2-tobs\n",
    "#print(r)\n",
    "chisq2 = np.dot(r2.T,r2)\n",
    "print(chisq2)\n"
   ]
  },
  {
   "cell_type": "markdown",
   "metadata": {},
   "source": [
    "**Task 2** Now write a function to calculate the G matrix of seismic phases at all stations for any trial earthquake location."
   ]
  },
  {
   "cell_type": "code",
   "execution_count": 17,
   "metadata": {},
   "outputs": [
    {
     "name": "stdout",
     "output_type": "stream",
     "text": [
      "CD inverse \n",
      " [[25.  0.  0.  0.  0.  0.  0.  0.  0.  0.]\n",
      " [ 0. 25.  0.  0.  0.  0.  0.  0.  0.  0.]\n",
      " [ 0.  0. 25.  0.  0.  0.  0.  0.  0.  0.]\n",
      " [ 0.  0.  0. 25.  0.  0.  0.  0.  0.  0.]\n",
      " [ 0.  0.  0.  0. 25.  0.  0.  0.  0.  0.]\n",
      " [ 0.  0.  0.  0.  0. 25.  0.  0.  0.  0.]\n",
      " [ 0.  0.  0.  0.  0.  0. 25.  0.  0.  0.]\n",
      " [ 0.  0.  0.  0.  0.  0.  0. 25.  0.  0.]\n",
      " [ 0.  0.  0.  0.  0.  0.  0.  0. 25.  0.]\n",
      " [ 0.  0.  0.  0.  0.  0.  0.  0.  0. 25.]]\n",
      " G matrix at initial guess \n",
      " [[-0.17022044 -0.06777678  0.02692328  1.        ]\n",
      " [-0.10746168  0.14917657  0.02217861  1.        ]\n",
      " [-0.17084179  0.06562888  0.0282752   1.        ]\n",
      " [ 0.14204227  0.10870593  0.04796423  1.        ]\n",
      " [-0.01461162 -0.17946638  0.04326515  1.        ]\n",
      " [-0.11485748  0.14285087  0.02636173  1.        ]\n",
      " [-0.02051303  0.18114316  0.03255645  1.        ]\n",
      " [ 0.12329113  0.1326639   0.03864119  1.        ]\n",
      " [-0.1106354  -0.14387748  0.03677814  1.        ]\n",
      " [-0.11949252  0.1152299   0.08208021  1.        ]]\n"
     ]
    }
   ],
   "source": [
    "# Try it here! You can insert more cells by selecting Cell > Insert Cell Above/Below from the menu\n",
    "# bar, or by pressing Esc to enter command mode and then hitting A or B (for above/below). \n",
    "\n",
    "###########################\n",
    "# Iterative earthquake location example \n",
    "########################### \n",
    "# Build derivative matrix G. Build the data covariance matrix with sigma=0.2\n",
    "\n",
    "def calcG(sol,sta):\n",
    "    vel = 5.4\n",
    "    d = np.zeros(len(sta))     # define distance matrix shape\n",
    "    G = np.zeros((len(sta),4)) # define G matrix shape\n",
    "    for i in range(len(sta)):\n",
    "        dx = sta[i,0]-sol[0]\n",
    "        dy = sta[i,1]-sol[1]\n",
    "        dz = sta[i,2]-sol[2]\n",
    "        d[i] = np.sqrt(dx*dx + dy*dy + dz*dz)\n",
    "        G[i,0] = -dx/(d[i]*vel)\n",
    "        G[i,1] = -dy/(d[i]*vel)\n",
    "        G[i,2] = -dz/(d[i]*vel)\n",
    "        G[i,3] = 1\n",
    "    return G\n",
    "\n",
    "xstart = [-10.0, 5.0, 5.0, 0.0]     # choose starting guess\n",
    "Cdinv = np.eye(len(tobs))/(0.2*0.2)\n",
    "G = calcG(xstart,sta)\n",
    "print('CD inverse \\n',Cdinv)\n",
    "print(' G matrix at initial guess \\n',G)"
   ]
  },
  {
   "cell_type": "code",
   "execution_count": 50,
   "metadata": {},
   "outputs": [
    {
     "data": {
      "text/plain": [
       "array([[ 21.61213296,  17.58702205,   0.        ],\n",
       "       [ 14.22642197, -28.63072994,   0.        ],\n",
       "       [ 20.21053493,  -6.60537827,   0.        ],\n",
       "       [-24.80710551,  -6.33197965,   0.        ],\n",
       "       [ -8.31138626,  25.74029442,   0.        ],\n",
       "       [ 11.78488761, -22.09436105,   0.        ],\n",
       "       [ -6.84962065, -22.81985815,   0.        ],\n",
       "       [-25.95333073, -12.16612588,   0.        ],\n",
       "       [  5.04091721,  24.56018806,   0.        ],\n",
       "       [ -2.7209912 ,  -2.01934734,   0.        ]])"
      ]
     },
     "execution_count": 50,
     "metadata": {},
     "output_type": "execute_result"
    }
   ],
   "source": [
    "sta"
   ]
  },
  {
   "cell_type": "markdown",
   "metadata": {},
   "source": [
    "**Task 3** Now iteratively solve the least squares problem starting at your initial guess location and print out convergence of the solution (or divergence!). You have to choose the number of iterations."
   ]
  },
  {
   "cell_type": "code",
   "execution_count": 65,
   "metadata": {},
   "outputs": [
    {
     "name": "stdout",
     "output_type": "stream",
     "text": [
      " Iteration  0 Chisq  5698.886175973503  Current location 20.0000 -6.0000  5.0000  0.0000\n",
      " Iteration  1 Chisq  101.28632858223347  Current location  8.7195  0.5279 12.4840  5.4061\n",
      " Iteration  2 Chisq  4.825727982003637  Current location 10.1895 -0.0320 10.8207  4.9080\n",
      " Iteration  3 Chisq  4.772001229610376  Current location 10.1403 -0.0014 10.7237  4.9037\n",
      " Iteration  4 Chisq  4.77199995773394  Current location 10.1409 -0.0017 10.7242  4.9036\n",
      " Iteration  5 Chisq  4.7719999576435885  Current location 10.1409 -0.0017 10.7242  4.9036\n",
      " Iteration  6 Chisq  4.7719999576435885  Current location 10.1409 -0.0017 10.7242  4.9036\n",
      " Iteration  7 Chisq  4.771999957643564  Current location 10.1409 -0.0017 10.7242  4.9036\n"
     ]
    }
   ],
   "source": [
    "# Try it here! You can insert more cells by selecting Cell > Insert Cell Above/Below from the menu\n",
    "# bar, or by pressing Esc to enter command mode and then hitting A or B (for above/below). \n",
    "\n",
    "###########################\n",
    "# Iterative earthquake location example \n",
    "###########################\n",
    "# Apply the least squares iterative solution to \n",
    "# both the noisy and noiseless data sets. Decide how many iterations to let it run for.\n",
    "# \n",
    "nit = 8 # number of iterations\n",
    "xsol = np.zeros([nit,4])\n",
    "xstart = np.array([0,0,1.,0.])\n",
    "xstart = [20.0, -6.0, 5.0, 0.0]     # choose starting guess\n",
    "xsol[0,:] = xstart\n",
    "t = tobs # use noiseless data for location\n",
    "t = tobsn # use noisy data for location\n",
    "nused =10\n",
    "t = t[:nused]\n",
    "Cdinv = np.eye(len(t))/(0.2*0.2)\n",
    "r = []\n",
    "for it in range(nit): # loop over number of iterations\n",
    "    # calculate travel times of current guess\n",
    "    \n",
    "    tpred = calct( xsol[it],sta[:nused]) # calculate predicted travel times from current location\n",
    "    G = calcG(xsol[it],sta[:nused])      # calculate new G matrix for current location\n",
    "    residuals = t-tpred       # calculate residuals between observed and predicted travel times\n",
    "    chisq =np.dot(residuals.T,np.dot(Cdinv,residuals))\n",
    "    print(' Iteration ',it,'Chisq ',chisq,' Current location','{:7.4f} {:7.4f} {:7.4f} {:7.4f}'.format(*tuple(xsol[it])))\n",
    "    r = np.append(r,residuals)\n",
    "    \n",
    "    A = np.dot(np.transpose(G), Cdinv)\n",
    "    GtG = np.dot(A, G) # G^T C_inv G^T\n",
    "    GtGinv = np.linalg.inv(GtG) # Inverse of G^TC_inv G\n",
    "    B = np.dot(GtGinv,A) # Least squares operator \n",
    "    dm = np.dot(B,residuals) # find update to location solution  \n",
    "    if(it!=nit-1):xsol[it+1] = xsol[it] + dm\n",
    "r = r.reshape(nit,len(sta[:nused]))\n",
    "xsoln = np.copy(xsol)"
   ]
  },
  {
   "cell_type": "markdown",
   "metadata": {},
   "source": [
    "**Task 4** Make a plot of the convergence of the solution in the (x,y) plane."
   ]
  },
  {
   "cell_type": "code",
   "execution_count": 66,
   "metadata": {},
   "outputs": [
    {
     "data": {
      "image/png": "[encoded data removed]",
      "text/plain": [
       "<Figure size 864x648 with 1 Axes>"
      ]
     },
     "metadata": {
      "needs_background": "light"
     },
     "output_type": "display_data"
    }
   ],
   "source": [
    "# Try it here! You can insert more cells by selecting Cell > Insert Cell Above/Below from the menu\n",
    "# bar, or by pressing Esc to enter command mode and then hitting A or B (for above/below). \n",
    "\n",
    "###########################\n",
    "# Iterative earthquake location example \n",
    "###########################\n",
    "# Make a plot showing the source location at each iteration for each case.\n",
    "\n",
    "fig, ax = plt.subplots(figsize=(12,9))\n",
    "plt.title('Station locations')\n",
    "ax.scatter(sta.T[0],sta.T[1],color='k')\n",
    "#plt.plot(xsol.T[0][:nit],xsol.T[1][:nit],'go:') # plot convergence of noiseless solution\n",
    "#plt.plot(xsol.T[0][nit],xsol.T[1][nit],'ro')    \n",
    "plt.plot(xsoln.T[0][:nit],xsoln.T[1][:nit],'bo:') # plot convergence of noisy solution\n",
    "plt.plot(xsoln.T[0][-1],xsoln.T[1][-1],'ro')\n",
    "plt.plot(xsoln.T[0][0],xsoln.T[1][0],'go')\n",
    "plt.xlim(-30,30)\n",
    "plt.ylim(-30,30)\n",
    "plt.xlabel('X')\n",
    "plt.ylabel('Y')\n",
    "plt.show()"
   ]
  },
  {
   "cell_type": "markdown",
   "metadata": {},
   "source": [
    "**Task 5** Make a table of arrival time residuals for each iteration."
   ]
  },
  {
   "cell_type": "code",
   "execution_count": 67,
   "metadata": {},
   "outputs": [
    {
     "name": "stdout",
     "output_type": "stream",
     "text": [
      "\n",
      "Station arrival time residuals for each iteration\n",
      "\n",
      "                0       1       2       3       4       5       6       7 \n",
      "Station  0  4.6729 -0.8434 -0.1346 -0.1223 -0.1222 -0.1222 -0.1222 -0.1222 \n",
      "Station  1  6.2690 -0.6756  0.0725  0.0766  0.0767  0.0767  0.0767  0.0767 \n",
      "Station  2  6.9682 -0.9129  0.0035  0.0118  0.0119  0.0119  0.0119  0.0119 \n",
      "Station  3  3.5329 -0.2696  0.0910  0.1082  0.1081  0.1081  0.1081  0.1081 \n",
      "Station  4  3.1443 -0.4214 -0.0405 -0.0211 -0.0211 -0.0211 -0.0211 -0.0211 \n",
      "Station  5  6.1329 -0.6195  0.1368  0.1432  0.1434  0.1434  0.1434  0.1434 \n",
      "Station  6  4.2391 -0.9149 -0.3664 -0.3549 -0.3549 -0.3549 -0.3549 -0.3549 \n",
      "Station  7  3.6479 -0.3401  0.0367  0.0525  0.0525  0.0525  0.0525  0.0525 \n",
      "Station  8  3.6785 -0.4201  0.0731  0.0913  0.0912  0.0912  0.0912  0.0912 \n",
      "Station  9  3.6707 -0.5356 -0.0076  0.0144  0.0143  0.0143  0.0143  0.0143 \n"
     ]
    }
   ],
   "source": [
    "# Try it here! You can insert more cells by selecting Cell > Insert Cell Above/Below from the menu\n",
    "# bar, or by pressing Esc to enter command mode and then hitting A or B (for above/below). \n",
    "\n",
    "###########################\n",
    "# Iterative earthquake location example \n",
    "###########################\n",
    "# Make a table of the residuals vs iteration for each case.\n",
    "\n",
    "print('\\nStation arrival time residuals for each iteration\\n')\n",
    "print('         ',('{:7d} '*nit).format(*range(nit)))\n",
    "for i in range(len(sta)):\n",
    "   print('Station ',i,('{:7.4f} '*nit).format(*tuple(r.T[i])))\n"
   ]
  },
  {
   "cell_type": "markdown",
   "metadata": {},
   "source": [
    "**Task 6** Perform a goodness of fit test to see if the data fit is satisfactory. Calculate the 5%, 50%, and 95% critical values and the p value for the best fit."
   ]
  },
  {
   "cell_type": "code",
   "execution_count": 68,
   "metadata": {},
   "outputs": [
    {
     "name": "stdout",
     "output_type": "stream",
     "text": [
      "\n",
      "Chi-square value:   4.772000\n",
      "Critical values for Chi-square\n",
      "  5%   1.635 \n",
      " 50%   5.348 \n",
      " 95%  12.592 \n",
      "\n",
      " P value for observed Chi-square:  0.6878 \n",
      "\n"
     ]
    }
   ],
   "source": [
    "# Try it here! You can insert more cells by selecting Cell > Insert Cell Above/Below from the menu\n",
    "# bar, or by pressing Esc to enter command mode and then hitting A or B (for above/below). \n",
    "\n",
    "########################\n",
    "#  Goodness of fit \n",
    "########################\n",
    "ndata=len(tobs)\n",
    "mls =xsoln[-1]\n",
    "G = calcG(xsoln[-1],sta)\n",
    "\n",
    "r = t - calct( mls,sta) # calculate residuals\n",
    "A = np.dot(np.transpose(r), Cdinv)\n",
    "chisq = np.dot(A, r) # Calculate Chi-square\n",
    "crit5 = stats.chi2.ppf(q=0.05,df=ndata-4) # Critical value for 5% C.I.\n",
    "crit50= stats.chi2.ppf(q=0.5,df=ndata-4) # Critical value for 50% C.I.\n",
    "crit95= stats.chi2.ppf(q=0.95,df=ndata-4) # Critical value for 95% C.I.\n",
    "p_value = 1 - stats.chi2.cdf(x=chisq,df=ndata-4) # Find the p-value\n",
    "\n",
    "print(\"\\nChi-square value: {:10.6f}\".format(chisq))\n",
    "print(\"Critical values for Chi-square\")\n",
    "print(\"  5% {:7.3f} \\n 50% {:7.3f} \\n 95% {:7.3f} \\n\".format(crit5,crit50,crit95))\n",
    "p_value = 1 - stats.chi2.cdf(x=chisq,  # Find the p-value\n",
    "                             df=ndata-3)\n",
    "print(\" P value for observed Chi-square: {:7.4f} \\n\".format(p_value))"
   ]
  },
  {
   "cell_type": "markdown",
   "metadata": {},
   "source": [
    "**Task 7** Calculate and plot the model covariance matrices for each pair of parameters at your final solution in the (x,y),(x,z),(y,z) and (z,t) planes. Do you see any significant trade-offs between the errors here?"
   ]
  },
  {
   "cell_type": "code",
   "execution_count": 69,
   "metadata": {},
   "outputs": [
    {
     "name": "stdout",
     "output_type": "stream",
     "text": [
      "Covariance matrix\n",
      " [[ 5.26780684e-01 -5.71729022e-03  1.08402323e+00 -1.08903996e-01]\n",
      " [-5.71729022e-03  2.68020794e-01 -6.48852485e-02 -5.13222619e-04]\n",
      " [ 1.08402323e+00 -6.48852485e-02  9.19884647e+00 -7.60497785e-01]\n",
      " [-1.08903996e-01 -5.13222619e-04 -7.60497785e-01  6.79297752e-02]]\n",
      "\n",
      "Correlation matrix\n",
      " [[ 1.         -0.01521567  0.49244415 -0.57570341]\n",
      " [-0.01521567  1.         -0.0413233  -0.00380357]\n",
      " [ 0.49244415 -0.0413233   1.         -0.96205783]\n",
      " [-0.57570341 -0.00380357 -0.96205783  1.        ]]\n",
      "\n",
      " Solution and 95% Confidence intervals \n",
      " X  10.141 [  8.718,  11.563]\n",
      " Y  -0.002 [ -1.016,   1.013]\n",
      " Z  10.724 [  4.780,  16.669]\n",
      " T   4.904 [  4.393,   5.414]\n",
      " Number of standard deviations for 68% Conf ellipse =  1.5095921854516636\n",
      " Number of standard deviations for 95% Conf ellipse =  2.447746830680816\n"
     ]
    },
    {
     "data": {
      "image/png": "[encoded data removed]",
      "text/plain": [
       "<Figure size 864x576 with 4 Axes>"
      ]
     },
     "metadata": {
      "needs_background": "light"
     },
     "output_type": "display_data"
    }
   ],
   "source": [
    "### Try it here! You can insert more cells by selecting Cell > Insert Cell Above/Below from the menu\n",
    "# bar, or by pressing Esc to enter command mode and then hitting A or B (for above/below). \n",
    "\n",
    "mls =xsoln[-1]\n",
    "G = calcG(xsoln[-1],sta)\n",
    "A = np.dot(np.transpose(G), Cdinv)\n",
    "GtG = np.dot(A, G) # G^T C_inv G^T\n",
    "Cm = np.linalg.inv(GtG) # Covariance matrix of solution errors\n",
    "    \n",
    "print(\"Covariance matrix\\n\",Cm)\n",
    "\n",
    "D = np.sqrt(np.diag(Cm)) \n",
    "Dinv = np.linalg.inv(np.diag(D))\n",
    "Corr = np.dot(Dinv,np.dot(Cm,Dinv)) #  Correlation matrix of solution errors\n",
    "print(\"\\nCorrelation matrix\\n\",Corr)\n",
    "\n",
    "sig_param1 = np.sqrt(Cm[0,0])\n",
    "sig_param2 = np.sqrt(Cm[1,1])\n",
    "sig_param3 = np.sqrt(Cm[2,2])\n",
    "sig_param4 = np.sqrt(Cm[3,3])\n",
    "print(\"\\n Solution and 95% Confidence intervals \")\n",
    "print(\" X {:7.3f} [{:7.3f}, {:7.3f}]\".format(mls[0],mls[0]-1.96*sig_param1,mls[0]+1.96*sig_param1))\n",
    "print(\" Y {:7.3f} [{:7.3f}, {:7.3f}]\".format(mls[1],mls[1]-1.96*sig_param2,mls[1]+1.96*sig_param2))\n",
    "print(\" Z {:7.3f} [{:7.3f}, {:7.3f}]\".format(mls[2],mls[2]-1.96*sig_param3,mls[2]+1.96*sig_param3))\n",
    "print(\" T {:7.3f} [{:7.3f}, {:7.3f}]\".format(mls[3],mls[3]-1.96*sig_param4,mls[3]+1.96*sig_param4))\n",
    "\n",
    "# ----------------------------------------------------------------------------\n",
    "# Plot covariance matrix from error distribution for each pair of solution parameters\n",
    "# ----------------------------------------------------------------------------\n",
    "\n",
    "CmProj01 = Cm[np.ix_([0,1],[0,1])]\n",
    "CmProj02 = Cm[np.ix_([0,2],[0,2])]\n",
    "CmProj12 = Cm[np.ix_([1,2],[1,2])]\n",
    "CmProj32 = Cm[np.ix_([3,2],[3,2])]\n",
    "\n",
    "fig = plt.figure(figsize=(12,8))\n",
    "fig.suptitle(\"Error ellipses for solution\", fontsize=16)\n",
    "\n",
    "l68 = np.sqrt(stats.chi2.ppf(q=0.68,df=2)) # number of standard deviations equivalent to 68% confidence ellipse\n",
    "l95 = np.sqrt(stats.chi2.ppf(q=0.95,df=2)) # number of standard deviations equivalent to 95% confidence ellipse\n",
    "print(' Number of standard deviations for 68% Conf ellipse = ',l68)\n",
    "print(' Number of standard deviations for 95% Conf ellipse = ',l95)\n",
    "\n",
    "ax1 = plt.subplot(\"221\")\n",
    "pc.plot_cov_ellipse(CmProj01,mls[0:2], ax=ax1,nstd=l68,color='Blue',alpha=0.4,label=\"68% Confidence\")\n",
    "pc.plot_cov_ellipse(CmProj01,mls[0:2], ax=ax1,nstd=l95,color='Green',alpha=0.4,label=\"95% Confidence\")\n",
    "ax1.set_xlim(mls[0]-1.3*1.96*sig_param1,mls[0]+1.3*1.96*sig_param1)\n",
    "ax1.set_ylim(mls[1]-1.3*1.96*sig_param2,mls[1]+1.3*1.96*sig_param2)\n",
    "ax1.set_xlabel('X')\n",
    "ax1.set_ylabel('Y')\n",
    "\n",
    "ax2 = plt.subplot(\"222\")\n",
    "pc.plot_cov_ellipse(CmProj12,mls[1:], ax=ax2,nstd=l68,color='Blue',alpha=0.4,label='68% Confidence')\n",
    "pc.plot_cov_ellipse(CmProj12,mls[1:], ax=ax2,nstd=l95,color='Green',alpha=0.4,label='95% Confidence')\n",
    "ax2.set_xlim(mls[1]-1.3*1.96*sig_param2,mls[1]+1.3*1.96*sig_param2)\n",
    "ax2.set_ylim(mls[2]-1.3*1.96*sig_param3,mls[2]+1.3*1.96*sig_param3)\n",
    "ax2.set_xlabel('Y')\n",
    "ax2.set_ylabel('Z')\n",
    "\n",
    "ax3 = plt.subplot(\"223\")\n",
    "pc.plot_cov_ellipse(CmProj02,[mls[0],mls[2]], ax=ax3,nstd=l68,color='Blue',alpha=0.4,label='68% Confidence')\n",
    "pc.plot_cov_ellipse(CmProj02,[mls[0],mls[2]], ax=ax3,nstd=l95,color='Green',alpha=0.4,label='95% Confidence')\n",
    "ax3.set_xlim(mls[0]-1.3*1.96*sig_param1,mls[0]+1.3*1.96*sig_param1)\n",
    "ax3.set_ylim(mls[2]-1.3*1.96*sig_param3,mls[2]+1.3*1.96*sig_param3)\n",
    "ax3.set_xlabel('X')\n",
    "ax3.set_ylabel('Z')\n",
    "\n",
    "ax4 = plt.subplot(\"224\")\n",
    "pc.plot_cov_ellipse(CmProj32,[mls[3],mls[2]], ax=ax4,nstd=l68,color='Blue',alpha=0.4,label='68% Confidence')\n",
    "pc.plot_cov_ellipse(CmProj32,[mls[3],mls[2]], ax=ax4,nstd=l95,color='Green',alpha=0.4,label='95% Confidence')\n",
    "ax4.set_xlim(mls[3]-1.3*1.96*sig_param4,mls[3]+1.3*1.96*sig_param4)\n",
    "ax4.set_ylim(mls[2]-1.3*1.96*sig_param3,mls[2]+1.3*1.96*sig_param3)\n",
    "ax4.set_xlabel('T')\n",
    "ax4.set_ylabel('Z')\n",
    "\n",
    "plt.show()"
   ]
  },
  {
   "cell_type": "code",
   "execution_count": null,
   "metadata": {},
   "outputs": [],
   "source": []
  }
 ],
 "metadata": {
  "kernelspec": {
   "display_name": "Python 3",
   "language": "python",
   "name": "python3"
  },
  "language_info": {
   "codemirror_mode": {
    "name": "ipython",
    "version": 3
   },
   "file_extension": ".py",
   "mimetype": "text/x-python",
   "name": "python",
   "nbconvert_exporter": "python",
   "pygments_lexer": "ipython3",
   "version": "3.7.7"
  }
 },
 "nbformat": 4,
 "nbformat_minor": 4
}
