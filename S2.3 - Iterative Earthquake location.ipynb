{
 "cells": [
  {
   "cell_type": "markdown",
   "metadata": {
    "deletable": true,
    "editable": true
   },
   "source": [
    "# 2.3: Nonlinear parameter estimation: Iterative Earthquake location#"
   ]
  },
  {
   "cell_type": "markdown",
   "metadata": {
    "deletable": true,
    "editable": true
   },
   "source": [
    "*Andrew Valentine & Malcolm Sambridge - Research School of Earth Sciences, The Australian National University - Last updated Sept. 2019*"
   ]
  },
  {
   "cell_type": "markdown",
   "metadata": {
    "deletable": true,
    "editable": true
   },
   "source": [
    "In this practical, we will look at a nonlinear inverse problem that requires an iterative solution. \n",
    "\n",
    "As an example, we will consider is earthquake location.\n",
    "\n",
    "Specifically, the practical is to write a python script to iteratively update an earthquake location for the $(x,y,z)$ and origin time, $t$.  Use a homogeneous crustal Earth model with wave speed, v=5.4 km/s. The tasks to be performed are:\n",
    "\n",
    "1. Read in 10 seismic stations at locations on a +-30km box in (x,y) at the earth’s surface together with two sets of arrival times from the source to each station, one with noise added and one without.\n",
    "\n",
    "2. Choose a random starting guess inside the box and determine expressions for each entry of the 10 x 4 Derivative matrix and build the G matrix. Build the data covariance matrix for independent Gaussian errors with $\\sigma=0.2$\n",
    "\n",
    "3. Apply the least squares iterative solution to both the noisy and noiseless data sets. Decide how many iterations to let it run for.\n",
    "\n",
    "4. Make a plot showing the source location at each iteration for each case.\n",
    "\n",
    "5. Make a table of the residuals vs iteration for each case.\n",
    "\n",
    "6. Calculate and plot the model covariance matrices for each pair of parameters at your final solution.\n",
    "\n",
    "Things to consider. Does the iterative algorithm converge to a good enough solution? Does this solution fit teh data adequately? How many iterations does it take? What happens if you put the starting solution far from the actual earthquake location? "
   ]
  },
  {
   "cell_type": "code",
   "execution_count": 1,
   "metadata": {
    "collapsed": false,
    "deletable": true,
    "editable": true,
    "jupyter": {
     "outputs_hidden": false
    }
   },
   "outputs": [],
   "source": [
    "%matplotlib inline\n",
    "import numpy as np\n",
    "import matplotlib.pyplot as plt\n",
    "from scipy import stats\n",
    "from inversionCourse import plotcovellipse as pc\n",
    "import pickle"
   ]
  },
  {
   "cell_type": "code",
   "execution_count": 2,
   "metadata": {
    "collapsed": false,
    "jupyter": {
     "outputs_hidden": false
    }
   },
   "outputs": [
    {
     "data": {
      "image/png": "[encoded data removed]",
      "text/plain": [
       "<Figure size 648x432 with 1 Axes>"
      ]
     },
     "metadata": {
      "needs_background": "light"
     },
     "output_type": "display_data"
    },
    {
     "name": "stdout",
     "output_type": "stream",
     "text": [
      " tobs\n",
      " [ 9.31979913 10.67036112  7.91562913 11.80824099 11.13594735  9.50326285\n",
      " 10.56990629 12.26874052  9.99586708  8.01971903]\n",
      " tobsn\n",
      " [ 9.14788778 10.69212619  7.90166076 11.8822169  11.07486658  9.60494135\n",
      " 10.17896718 12.28384527 10.04709788  8.04154611]\n"
     ]
    }
   ],
   "source": [
    "# Try it here! You can insert more cells by selecting Cell > Insert Cell Above/Below from the menu\n",
    "# bar, or by pressing Esc to enter command mode and then hitting A or B (for above/below). \n",
    "\n",
    "# Read in 10 seismic stations at random locations on a +-30km box in (x,y) at the earth’s surface together \n",
    "# with two sets of arrival times from the source to each station, one with noise added and one without.\n",
    "\n",
    "pickle_off = open(\"Datasets/eqdata.pickle\",\"rb\")\n",
    "[tobs,tobsn,sta] = pickle.load(pickle_off)\n",
    "\n",
    "fig, ax = plt.subplots(figsize=(9,6))\n",
    "plt.title('Station locations')\n",
    "ax.scatter(sta.T[0],sta.T[1],color='k')\n",
    "plt.xlim(-30,30)\n",
    "plt.ylim(-30,30)\n",
    "plt.xlabel('X')\n",
    "plt.ylabel('Y')\n",
    "plt.show()\n",
    "print(' tobs\\n',tobs)\n",
    "print(' tobsn\\n',tobsn)"
   ]
  },
  {
   "cell_type": "markdown",
   "metadata": {},
   "source": [
    "**Task 1** First write a python function to calculate the arrival times of seismic phases at all stations."
   ]
  },
  {
   "cell_type": "code",
   "execution_count": 3,
   "metadata": {
    "collapsed": false,
    "jupyter": {
     "outputs_hidden": false
    }
   },
   "outputs": [],
   "source": [
    "# Try it here! You can insert more cells by selecting Cell > Insert Cell Above/Below from the menu\n",
    "# bar, or by pressing Esc to enter command mode and then hitting A or B (for above/below). \n",
    "def calct(sol,sta):\n",
    "    vel = 5.4\n",
    "    d = np.zeros(len(sta))     # define distance matrix shape\n",
    "    for i in range(len(sta)):\n",
    "        dx = sta[i,0]-sol[0]\n",
    "        dy = sta[i,1]-sol[1]\n",
    "        dz = sta[i,2]-sol[2]\n",
    "        d[i] = np.sqrt(dx*dx+dy*dy+dz*dz)\n",
    "    tpred = sol[3] + d/vel\n",
    "    return tpred"
   ]
  },
  {
   "cell_type": "markdown",
   "metadata": {},
   "source": [
    "**Task 2** Now write a function to calculate the G matrix of seismic phases at all stations for any trial earthquake location."
   ]
  },
  {
   "cell_type": "code",
   "execution_count": 12,
   "metadata": {
    "collapsed": false,
    "jupyter": {
     "outputs_hidden": false
    }
   },
   "outputs": [
    {
     "name": "stdout",
     "output_type": "stream",
     "text": [
      "[[-0.17022044 -0.06777678  0.02692328  1.        ]\n",
      " [-0.10746168  0.14917657  0.02217861  1.        ]\n",
      " [-0.17084179  0.06562888  0.0282752   1.        ]\n",
      " [ 0.14204227  0.10870593  0.04796423  1.        ]\n",
      " [-0.01461162 -0.17946638  0.04326515  1.        ]\n",
      " [-0.11485748  0.14285087  0.02636173  1.        ]\n",
      " [-0.02051303  0.18114316  0.03255645  1.        ]\n",
      " [ 0.12329113  0.1326639   0.03864119  1.        ]\n",
      " [-0.1106354  -0.14387748  0.03677814  1.        ]\n",
      " [-0.11949252  0.1152299   0.08208021  1.        ]]\n"
     ]
    }
   ],
   "source": [
    "# Try it here! You can insert more cells by selecting Cell > Insert Cell Above/Below from the menu\n",
    "# bar, or by pressing Esc to enter command mode and then hitting A or B (for above/below). \n",
    "\n",
    "def calcG(sol,sta):\n",
    "    vel = 5.4\n",
    "    d = np.zeros(len(sta))     # define distance matrix shape\n",
    "    G = np.zeros((len(sta),4)) # define G matrix shape\n",
    "    for i in range(len(sta)):\n",
    "        dx = sta[i,0]-sol[0]\n",
    "        dy = sta[i,1]-sol[1]\n",
    "        dz = sta[i,2]-sol[2]\n",
    "        d[i] = np.sqrt(dx*dx + dy*dy + dz*dz)\n",
    "        G[i,0] = -dx/(d[i]*vel)\n",
    "        G[i,1] = -dy/(d[i]*vel)\n",
    "        G[i,2] = -dz/(d[i]*vel)\n",
    "        G[i,3] = 1\n",
    "    return G\n",
    "\n",
    "xstart = [-10.0, 5.0, 5.0, 0.0]     # choose starting guess\n",
    "Cdinv = np.eye(len(tobs))/(0.2*0.2)\n",
    "G0 = calcG(xstart,sta) # test my G calculation at my trial guess solution\n",
    "print(G0)"
   ]
  },
  {
   "cell_type": "markdown",
   "metadata": {},
   "source": [
    "**Task 3** Now iteratively solve the least squares problem starting at your initial guess location and print out convergence of the solution (or divergence!). You have to choose the number of iterations."
   ]
  },
  {
   "cell_type": "code",
   "execution_count": 6,
   "metadata": {
    "collapsed": false,
    "deletable": true,
    "editable": true,
    "jupyter": {
     "outputs_hidden": false
    }
   },
   "outputs": [],
   "source": [
    "# Try it here! You can insert more cells by selecting Cell > Insert Cell Above/Below from the menu\n",
    "# bar, or by pressing Esc to enter command mode and then hitting A or B (for above/below). \n"
   ]
  },
  {
   "cell_type": "markdown",
   "metadata": {},
   "source": [
    "**Task 4** Make a plot of the convergence of the solution in the (x,y) plane."
   ]
  },
  {
   "cell_type": "code",
   "execution_count": 7,
   "metadata": {
    "collapsed": false,
    "jupyter": {
     "outputs_hidden": false
    }
   },
   "outputs": [],
   "source": [
    "# Try it here! You can insert more cells by selecting Cell > Insert Cell Above/Below from the menu\n",
    "# bar, or by pressing Esc to enter command mode and then hitting A or B (for above/below). \n"
   ]
  },
  {
   "cell_type": "markdown",
   "metadata": {},
   "source": [
    "**Task 5** Make a table of arrival time residuals for each iteration."
   ]
  },
  {
   "cell_type": "code",
   "execution_count": 8,
   "metadata": {
    "collapsed": false,
    "jupyter": {
     "outputs_hidden": false
    }
   },
   "outputs": [],
   "source": [
    "# Try it here! You can insert more cells by selecting Cell > Insert Cell Above/Below from the menu\n",
    "# bar, or by pressing Esc to enter command mode and then hitting A or B (for above/below). \n"
   ]
  },
  {
   "cell_type": "markdown",
   "metadata": {},
   "source": [
    "**Task 6** Perform a goodness of fit test to see if the data fit is satisfactory. Calculate the 5%, 50%, and 95% critical values and the p value for the best fit."
   ]
  },
  {
   "cell_type": "code",
   "execution_count": 9,
   "metadata": {
    "collapsed": false,
    "jupyter": {
     "outputs_hidden": false
    }
   },
   "outputs": [],
   "source": [
    "# Try it here! You can insert more cells by selecting Cell > Insert Cell Above/Below from the menu\n",
    "# bar, or by pressing Esc to enter command mode and then hitting A or B (for above/below). \n"
   ]
  },
  {
   "cell_type": "markdown",
   "metadata": {},
   "source": [
    "**Task 7** Calculate and plot the model covariance matrices for each pair of parameters at your final solution in the (x,y),(x,z),(y,z) and (z,t) planes. Do you see any significant trade-offs between the errors here?"
   ]
  },
  {
   "cell_type": "code",
   "execution_count": 10,
   "metadata": {
    "collapsed": false,
    "jupyter": {
     "outputs_hidden": false
    }
   },
   "outputs": [],
   "source": [
    "### Try it here! You can insert more cells by selecting Cell > Insert Cell Above/Below from the menu\n",
    "# bar, or by pressing Esc to enter command mode and then hitting A or B (for above/below). \n",
    "\n"
   ]
  },
  {
   "cell_type": "code",
   "execution_count": null,
   "metadata": {},
   "outputs": [],
   "source": []
  }
 ],
 "metadata": {
  "kernelspec": {
   "display_name": "Python 3",
   "language": "python",
   "name": "python3"
  },
  "language_info": {
   "codemirror_mode": {
    "name": "ipython",
    "version": 3
   },
   "file_extension": ".py",
   "mimetype": "text/x-python",
   "name": "python",
   "nbconvert_exporter": "python",
   "pygments_lexer": "ipython3",
   "version": "3.7.6"
  }
 },
 "nbformat": 4,
 "nbformat_minor": 4
}
