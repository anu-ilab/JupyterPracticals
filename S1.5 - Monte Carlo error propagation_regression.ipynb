{
 "cells": [
  {
   "cell_type": "markdown",
   "metadata": {
    "deletable": true,
    "editable": true
   },
   "source": [
    "# 1.5: Monte Carlo uncertainty estimation #"
   ]
  },
  {
   "cell_type": "markdown",
   "metadata": {
    "deletable": true,
    "editable": true
   },
   "source": [
    "*Andrew Valentine & Malcolm Sambridge - Research School of Earth Sciences, The Australian National University - Last updated Sept. 2019*"
   ]
  },
  {
   "cell_type": "markdown",
   "metadata": {
    "deletable": true,
    "editable": true
   },
   "source": [
    "We now repeat the uncertainty analysis of the curve fitting question but instead use Monte\n",
    "Carlo error propagation. This practical is intended as a demonstration of how analytical expressions for model covariance matrices and related quantities such as confidence intervals, can also be determined from Monte Carlo error propagation. While in linear problems these results should be approximately equal the Monte Carlo method can equally be applied in nonlinear cases.\n",
    "\n",
    "Recall that the problem is to\n",
    "fit the following function to some observations of\n",
    "$x_i, y_i, (i=1\\dots,N)$\n",
    "\n",
    "$$ y(x) = \\frac{1}{100}\\left[ \\frac{m_1}{5} + \\frac{m_2}{5}x +\\frac{m_3}{16}(x^2 + 1600\\sin(\\frac{x}{2\\pi})) \\right ]. $$\n",
    "\n",
    "<img src=\"Figures/Example-data-curve.png\" alt=\"Example of test data for regression problem with true curve (blue). Here the $x$ values are generated uniformly randomly between 0 and 120, while the $y$ values are equal to the curve height plus a Gaussian random error with $\\sigma_y = 0.75$, i.e. $y_{obs} = y_{true} + \\epsilon$, where $\\epsilon \\sim N(0, \\sigma_y^2)$.\" width=\"600\"/>\n",
    "\n",
    "Figure 1. Example of test data for regression problem with true curve (blue). Here the $x$ values are generated uniformly randomly between 0 and 120, while the $y$ values are equal to the curve height plus a Gaussian random error with $\\sigma_y = 0.75$, i.e. $y_{obs} = y_{true} + \\epsilon$, where $\\epsilon \\sim N(0, \\sigma_y^2)$.\n",
    "\n"
   ]
  },
  {
   "cell_type": "markdown",
   "metadata": {
    "deletable": true,
    "editable": true
   },
   "source": [
    "First load some libraries."
   ]
  },
  {
   "cell_type": "code",
   "execution_count": null,
   "metadata": {
    "collapsed": true,
    "deletable": true,
    "editable": true
   },
   "outputs": [],
   "source": [
    "%matplotlib inline\n",
    "import matplotlib.pyplot as plt\n",
    "from scipy import stats\n",
    "import numpy as np\n",
    "import math\n",
    "import pickle\n",
    "from inversionCourse import plotcovellipse as pc"
   ]
  },
  {
   "cell_type": "markdown",
   "metadata": {
    "deletable": true,
    "editable": true
   },
   "source": [
    "As before we read in a data set of 12 value for this curve and plot them."
   ]
  },
  {
   "cell_type": "code",
   "execution_count": null,
   "metadata": {
    "collapsed": false,
    "deletable": true,
    "editable": true
   },
   "outputs": [],
   "source": [
    "xmin, xmax, nres = 1.0, 120.0, 100\n",
    "#\n",
    "# read in observations\n",
    "#\n",
    "pickle_off = open(\"Datasets/data_fitting.pickle\",\"rb\")\n",
    "[yobs,xobs,x_true,y_true] = pickle.load(pickle_off)\n",
    "sigmay = 0.75\n",
    "\n",
    "# ----------------------------------------------------------------------------   \n",
    "# plot data\n",
    "# ----------------------------------------------------------------------------\n",
    "\n",
    "fig, ax = plt.subplots(figsize=(9,6))\n",
    "\n",
    "ax.plot(x_true, y_true,label='True curve',color='b')\n",
    "ax.errorbar(xobs,yobs,yerr=sigmay,fmt='o',color=(0, 0, 0, 0.25),label='Observations')\n",
    "plt.legend(loc='upper left',framealpha=0.7)\n",
    "plt.title('Data and true curve')\n",
    "plt.xlabel('X')\n",
    "plt.ylabel('Y')\n",
    "plt.show()"
   ]
  },
  {
   "cell_type": "markdown",
   "metadata": {
    "deletable": true,
    "editable": true
   },
   "source": [
    "\n",
    "As a preliminary step you will need to repeat the calculation of G matrix, Least squares solution and model covariance matrix done previously for this dataset. You can cut and paste your previous solution below."
   ]
  },
  {
   "cell_type": "code",
   "execution_count": null,
   "metadata": {
    "collapsed": false,
    "deletable": true,
    "editable": true
   },
   "outputs": [],
   "source": [
    "# Try it here! You can insert more cells by selecting Cell > Insert Cell Above/Below from the menu\n",
    "# bar, or by pressing Esc to enter command mode and then hitting A or B (for above/below). \n",
    "\n",
    "# You can cut and paste your previous solution here\n",
    "\n"
   ]
  },
  {
   "cell_type": "markdown",
   "metadata": {
    "deletable": true,
    "editable": true
   },
   "source": [
    "**Task 1:** \n",
    "To perform the Monte Carlo error propagation we generate Gaussian random deviates with standard deviation\n",
    "    $\\sigma_y = 0.75$ as was assumed previously. Add these to the\n",
    "    observed y values $y_{obs}$. Then use these new y values and fit the\n",
    "    model in Figure 1 as many times as you think necessary. Make a 2-D scatter plots of pairs of parameters in the MC solutions and compare to the linear covariance ellipses you plotted previously.\n",
    "    "
   ]
  },
  {
   "cell_type": "code",
   "execution_count": null,
   "metadata": {
    "collapsed": false,
    "deletable": true,
    "editable": true
   },
   "outputs": [],
   "source": [
    "# Try it here! You can insert more cells by selecting Cell > Insert Cell Above/Below from the menu\n",
    "# bar, or by pressing Esc to enter command mode and then hitting A or B (for above/below). \n"
   ]
  },
  {
   "cell_type": "markdown",
   "metadata": {
    "deletable": true,
    "editable": true
   },
   "source": [
    "**Task 2:** Plot the histogram of the Monte Carlo solutions for each parameter\n",
    "    $m_1,m_2$ and $m_3$. How do they compare to the 95% confidence\n",
    "    intervals calculated previously."
   ]
  },
  {
   "cell_type": "code",
   "execution_count": null,
   "metadata": {
    "collapsed": false,
    "deletable": true,
    "editable": true
   },
   "outputs": [],
   "source": [
    "# Try it here! You can insert more cells by selecting Cell > Insert Cell Above/Below from the menu\n",
    "# bar, or by pressing Esc to enter command mode and then hitting A or B (for above/below). \n",
    "\n",
    "# Write your answer in here\n"
   ]
  },
  {
   "cell_type": "markdown",
   "metadata": {
    "deletable": true,
    "editable": true
   },
   "source": [
    "**Task 3:** Calculate a model covariance matrix from the MC solutions and\n",
    "    compare to the model covariance matrix values found in Q1.5 above.\n",
    "    Plot ellipses for pairs of parameters, as before. How do these plots\n",
    "    compare to the covariance ellipses you plotted previously based on analytical formulae for model covariance?"
   ]
  },
  {
   "cell_type": "code",
   "execution_count": null,
   "metadata": {
    "collapsed": false,
    "deletable": true,
    "editable": true
   },
   "outputs": [],
   "source": [
    "# Try it here! You can insert more cells by selecting Cell > Insert Cell Above/Below from the menu\n",
    "# bar, or by pressing Esc to enter command mode and then hitting A or B (for above/below). \n",
    "\n",
    "l68 = np.sqrt(stats.chi2.ppf(q=0.68,df=2)) # number of standard deviations equivalent to 68% confidence ellipse in 2D\n",
    "l95 = np.sqrt(stats.chi2.ppf(q=0.95,df=2)) # number of standard deviations equivalent to 95% confidence ellipse in 2D\n"
   ]
  },
  {
   "cell_type": "markdown",
   "metadata": {
    "deletable": true,
    "editable": true
   },
   "source": [
    "**Task 4:** Calculate 95% confidence intervals for each parameter using your MC\n",
    "    estimated model covariance matrix. How do these results compare to\n",
    "    the ones you obtained with linear theory?"
   ]
  },
  {
   "cell_type": "code",
   "execution_count": null,
   "metadata": {
    "collapsed": false,
    "deletable": true,
    "editable": true
   },
   "outputs": [],
   "source": [
    "# Try it here! You can insert more cells by selecting Cell > Insert Cell Above/Below from the menu\n",
    "# bar, or by pressing Esc to enter command mode and then hitting A or B (for above/below). \n"
   ]
  },
  {
   "cell_type": "markdown",
   "metadata": {
    "collapsed": false,
    "deletable": true,
    "editable": true
   },
   "source": [
    "**Task 5**\n",
    "Calculate feasible curves corresponding to your Monte Carlo solutions and plot them together with the actual best fit curve. Does this figure look similar to the one you obtained with linear theory?"
   ]
  },
  {
   "cell_type": "code",
   "execution_count": null,
   "metadata": {
    "collapsed": false,
    "deletable": true,
    "editable": true
   },
   "outputs": [],
   "source": [
    "\n"
   ]
  },
  {
   "cell_type": "code",
   "execution_count": null,
   "metadata": {
    "collapsed": true,
    "deletable": true,
    "editable": true
   },
   "outputs": [],
   "source": []
  }
 ],
 "metadata": {
  "kernelspec": {
   "display_name": "Python 3",
   "language": "python",
   "name": "python3"
  },
  "language_info": {
   "codemirror_mode": {
    "name": "ipython",
    "version": 3
   },
   "file_extension": ".py",
   "mimetype": "text/x-python",
   "name": "python",
   "nbconvert_exporter": "python",
   "pygments_lexer": "ipython3",
   "version": "3.5.2"
  }
 },
 "nbformat": 4,
 "nbformat_minor": 2
}
