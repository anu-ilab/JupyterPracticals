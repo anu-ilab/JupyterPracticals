{
 "cells": [
  {
   "cell_type": "markdown",
   "metadata": {
    "deletable": true,
    "editable": true
   },
   "source": [
    "# 2.4: Earthquake location and uncertainty via Monte Carlo Error Propagation"
   ]
  },
  {
   "cell_type": "markdown",
   "metadata": {
    "deletable": true,
    "editable": true
   },
   "source": [
    "*Andrew Valentine & Malcolm Sambridge - Research School of Earth Sciences, The Australian National University - Last updated Aug. 2020*"
   ]
  },
  {
   "cell_type": "markdown",
   "metadata": {
    "deletable": true,
    "editable": true
   },
   "source": [
    "In this practical, we look at Monte Carlo error propagation in a nonlinear inverse problem. \n",
    "\n",
    "As an example, we will consider is earthquake location.\n",
    "\n",
    "Specifically, the practical is to set up an earthquake location problem and use a python script to iteratively update an earthquake location for the $(x,y,z)$ and origin time, $t$.  This will then be used as the basis of Monte Carlo error propagation. The tasks to be performed are:\n",
    "\n",
    "1. Read in 25 seismic stations at locations across Switzerland together with arrival times from the source to each station.\n",
    "\n",
    "2. Choose a random starting guess inside the region, a half space seismic wavespeed and tolerance for iterative location algorithm.\n",
    "Note that the depth is fixed by this location routine to the starting guess, so set the depth to $z=-10 km$.\n",
    "\n",
    "3. Apply the least squares iterative solution routine to this data set. Choose a tolerance parameter which determines when to stop the solver, e.g $tol=0.01$.\n",
    "\n",
    "4. Make a plot showing the source location at each iteration relative to the seismic station.\n",
    "\n",
    "5. Use Monte Carlo Error propagation by adding Gaussian noise to the data and repeating the location. Plot the cloud of solutions in selected planes. \n",
    "\n",
    "6. Calculate and plot the model covariance matrices for each pair of parameters at your final solution.\n",
    "\n",
    "Things to consider. Does the iterative algorithm converge to a good enough solution? Do the Monte Carlo error ellipses look reasonable. What influences their shape?"
   ]
  },
  {
   "cell_type": "code",
   "execution_count": null,
   "metadata": {
    "collapsed": false,
    "deletable": true,
    "editable": true,
    "jupyter": {
     "outputs_hidden": false
    }
   },
   "outputs": [],
   "source": [
    "%matplotlib inline\n",
    "# setup libraries for exercises and practicals\n",
    "import matplotlib.pyplot as plt\n",
    "from scipy import stats\n",
    "import numpy as np\n",
    "from inversionCourse import plotcovellipse as pc\n",
    "import math\n",
    "import scipy.io as sio\n",
    "from inversionCourse import eqlocate as eq\n",
    "from inversionCourse.plotcovellipse import plot_point_cov,plot_cov_ellipse"
   ]
  },
  {
   "cell_type": "markdown",
   "metadata": {},
   "source": [
    "**Task 1** First write a python script to read in the data, iteratively locate the earthquake and plot the results.\n",
    "\n",
    "To locate the event you can use the supplied routine *eqlocate*."
   ]
  },
  {
   "cell_type": "code",
   "execution_count": null,
   "metadata": {
    "collapsed": false,
    "editable": true,
    "jupyter": {
     "outputs_hidden": false
    }
   },
   "outputs": [],
   "source": [
    "############\n",
    "#    eloc\n",
    "#############\n",
    "with open('datasets/loctim.txt') as f:\n",
    "    Lines=f.read().splitlines()  \n",
    "     \n",
    "la, lo, el, ts =[],[],[],[]\n",
    "\n",
    "for i in range(len(Lines)):\n",
    "    la.append(float(Lines[i].split()[0]))\n",
    "    lo.append(float(Lines[i].split()[1]))\n",
    "    el.append(float(Lines[i].split()[2]))\n",
    "    ts.append(float(Lines[i].split()[3]))\n",
    "\n",
    "la,lo,el,ts =np.array(la), np.array(lo), np.array(el), np.array(ts)\n",
    "\n",
    "vp,tol=5.8, [0.01,0.01] # set velocity and tolerance for arrival time fitting\n",
    "\n",
    "# load country border.xy\n",
    "border1, border2 =[], []\n",
    "\n",
    "with open('datasets/border.xy') as f1:\n",
    "    border=f1.read().splitlines()  \n",
    "for i in range(len(border)):\n",
    "    border1.append(float(border[i].split()[0]))\n",
    "    border2.append(float(border[i].split()[1]))\n",
    "\n",
    "border1=np.array(border1)\n",
    "border2=np.array(border2)\n",
    "\n",
    "######## Start guess for location\n",
    "x0=9\n",
    "y0=46.8\n",
    "z0=-10\n",
    "######## locate earthquake\n",
    "sols, res =eq.eqlocate(x0,y0,z0,ts,la,lo,el,vp,tol)\n",
    "\n",
    "numit = len(sols)\n",
    "tfinal = sols[numit-1,0]\n",
    "xfinal = sols[numit-1,1]\n",
    "yfinal = sols[numit-1,2]\n",
    "zfinal = sols[numit-1,3]\n",
    "\n",
    "print ('Location', xfinal,yfinal,zfinal)\n",
    "print ('Event time (seconds after 16:30)',tfinal)\n",
    "\n",
    "plt.figure(figsize=(9,6))\n",
    "plt.plot(border1,border2,'r-')\n",
    "plt.scatter(lo,la,s=50,marker='^')\n",
    "plt.plot(sols[:,1],sols[:,2],'o-y') # solution updates\n",
    "plt.plot(sols[0,1],sols[0,2],'ok') # initial guess\n",
    "plt.plot(xfinal,yfinal,'or')\n",
    "plt.xlim([5.5,11])\n",
    "plt.ylim([45.5,48])\n",
    "plt.show()\n"
   ]
  },
  {
   "cell_type": "markdown",
   "metadata": {},
   "source": [
    "**Task 2** Now calculate 5000 Monte Carlo solutions by adding Gaussian random noise, $N(0,\\sigma^2=0.2s)$ to each arrival time and relocate. Plot the cloud of solutions relative to the original solution."
   ]
  },
  {
   "cell_type": "code",
   "execution_count": null,
   "metadata": {
    "collapsed": false,
    "editable": true,
    "jupyter": {
     "outputs_hidden": false
    }
   },
   "outputs": [],
   "source": [
    "# Try it here! You can insert more cells by selecting Cell > Insert Cell Above/Below from the menu\n",
    "# bar, or by pressing Esc to enter command mode and then hitting A or B (for above/below). \n",
    "\n",
    "##############\n",
    "#    Then use Monte Carlo error propagation to calculate confidence ellipses\n",
    "##############\n",
    "\n",
    "######## Start guess for location in degrees\n",
    "x0=9\n",
    "y0=46.8\n",
    "z0=-10\n",
    "\n",
    "ndata,n,sigma =len(la), 5000, 0.2 # Number of stations, Number of MC solutions, standard deviation of arrival time noise to be added.\n",
    "\n",
    "MCsols=[]\n",
    "for i in range(n):\n",
    "    tsMC= ts +sigma*np.random.randn(ndata)\n",
    "    sols,res=eq.eqlocate(x0,y0,z0,tsMC,la,lo,el,vp,tol)\n",
    "    MCsols.append(sols[-1,:])\n",
    "MCsols=np.array(MCsols)    \n",
    "sols,res=eq. eqlocate(x0,y0,z0,ts,la,lo,el,vp,tol)\n",
    "\n",
    "fig = plt.figure(figsize=(9,6))\n",
    "fig.suptitle(\"Monte Carlo solution\", fontsize=20)\n",
    "\n",
    "ax1 = plt.subplot(\"221\")\n",
    "ax1.plot(MCsols[:,1],MCsols[:,2], 'k+')\n",
    "ax1.plot(sols[-1,1],sols[-1,2], 'ro')\n",
    "ax1.set_xlabel('Longitude')\n",
    "ax1.set_ylabel('Latitude')\n",
    "\n",
    "ax2 = plt.subplot(\"222\")\n",
    "ax2.plot(MCsols[:,1],MCsols[:,0], 'k+')\n",
    "ax2.plot(sols[-1,1],sols[-1,0], 'ro')\n",
    "ax2.set_xlabel('Longitude')\n",
    "ax2.set_ylabel('Origin Time')\n",
    "\n",
    "ax3 = plt.subplot(\"223\")\n",
    "ax3.plot(MCsols[:,2],MCsols[:,0], 'k+')\n",
    "ax3.plot(sols[-1,2],sols[-1,0], 'ro')\n",
    "ax3.set_xlabel('Latitude')\n",
    "ax3.set_ylabel('Origin Time')\n",
    "\n",
    "plt.show()"
   ]
  },
  {
   "cell_type": "markdown",
   "metadata": {},
   "source": [
    "**Task 3** Now calculate the model covariance matrix from the Monte Carlo solutions, together with the standard deviation and hence the 95% confidence intervals for each parameter,"
   ]
  },
  {
   "cell_type": "code",
   "execution_count": null,
   "metadata": {
    "collapsed": false,
    "editable": true,
    "jupyter": {
     "outputs_hidden": false
    }
   },
   "outputs": [],
   "source": [
    "# Try it here! You can insert more cells by selecting Cell > Insert Cell Above/Below from the menu\n",
    "# bar, or by pressing Esc to enter command mode and then hitting A or B (for above/below). \n",
    "\n",
    "\n",
    "###### Calculate covariance solutions numerically from MC solutions.\n",
    "Cm_cov= np.cov(MCsols.T)\n",
    "Cm_std= np.std(MCsols,axis=0)\n",
    "print('Monte Carlo estimate of model covariance matrix\\n',Cm_cov)\n",
    "print('\\n Monte Carlo estimate of model standard deviations in each parameter')\n",
    "print(' Parameter 1: ',Cm_std[0])\n",
    "print(' Parameter 2: ',Cm_std[1])\n",
    "print(' Parameter 3: ',Cm_std[2])\n",
    "\n",
    "sig_param1 = Cm_std[0]\n",
    "sig_param2 = Cm_std[1]\n",
    "sig_param3 = Cm_std[2]\n",
    "print(\"\\n Solution and 95% Confidence intervals \")\n",
    "print(\" Parameter 1 {:7.3f} [{:7.3f}, {:7.3f}]\".format(sols[-1][0],sols[-1][0]-1.96*sig_param1,sols[-1][0]+1.96*sig_param1))\n",
    "print(\" Parameter 2 {:7.3f} [{:7.3f}, {:7.3f}]\".format(sols[-1][1],sols[-1][1]-1.96*sig_param2,sols[-1][1]+1.96*sig_param2))\n",
    "print(\" Parameter 3 {:7.3f} [{:7.3f}, {:7.3f}]\".format(sols[-1][2],sols[-1][2]-1.96*sig_param3,sols[-1][2]+1.96*sig_param3))\n"
   ]
  },
  {
   "cell_type": "markdown",
   "metadata": {},
   "source": [
    "**Task 4** Now plot the 68% and 95 % confidence ellipses projected onto selected axes relative to the original solution."
   ]
  },
  {
   "cell_type": "code",
   "execution_count": null,
   "metadata": {},
   "outputs": [],
   "source": [
    "# Try it here! You can insert more cells by selecting Cell > Insert Cell Above/Below from the menu\n",
    "# bar, or by pressing Esc to enter command mode and then hitting A or B (for above/below). \n",
    "\n",
    "# Plot Covariance ellipses and compare to Monte Carlo solutions\n",
    "\n",
    "l68 = np.sqrt(stats.chi2.ppf(q=0.68,df=2)) # number of standard deviations equivalent to 68% confidence ellipse\n",
    "l95 = np.sqrt(stats.chi2.ppf(q=0.95,df=2)) # number of standard deviations equivalent to 95% confidence ellipse\n",
    "\n",
    "CmProj01 = Cm_cov[np.ix_([0,1],[0,1])]\n",
    "CmProj02 = Cm_cov[np.ix_([0,2],[0,2])]\n",
    "CmProj12 = Cm_cov[np.ix_([1,2],[1,2])]\n",
    "\n",
    "fig = plt.figure(figsize=(9,6))\n",
    "fig.suptitle(\"Error ellipses for solution\", fontsize=16)\n",
    "\n",
    "ax1 = plt.subplot(\"221\")\n",
    "pc.plot_cov_ellipse(CmProj12,sols[-1][1:], ax=ax1,nstd=l68,color='Blue',alpha=0.4,label='68% Confidence')\n",
    "pc.plot_cov_ellipse(CmProj12,sols[-1][1:], ax=ax1,nstd=l95,color='Green',alpha=0.4,label='95% Confidence')\n",
    "ax1.set_xlim(sols[-1][1]-1.3*1.96*sig_param2,sols[-1][1]+1.3*1.96*sig_param2)\n",
    "ax1.set_ylim(sols[-1][2]-1.3*1.96*sig_param3,sols[-1][2]+1.3*1.96*sig_param3)\n",
    "ax1.set_xlabel('Longitude (deg)')\n",
    "ax1.set_ylabel('Latitude (deg)')\n",
    "\n",
    "ax2 = plt.subplot(\"222\")\n",
    "pc.plot_cov_ellipse(CmProj01,[sols[-1][1],sols[-1][0]], ax=ax2,nstd=l68,color='Blue',alpha=0.4,label=\"68% Confidence\")\n",
    "pc.plot_cov_ellipse(CmProj01,[sols[-1][1],sols[-1][0]], ax=ax2,nstd=l95,color='Green',alpha=0.4,label=\"95% Confidence\")\n",
    "ax2.set_xlim(sols[-1][1]-1.3*1.96*sig_param1,sols[-1][1]+1.3*1.96*sig_param1)\n",
    "ax2.set_ylim(sols[-1][0]-1.3*1.96*sig_param2,sols[-1][0]+1.3*1.96*sig_param2)\n",
    "ax2.set_ylabel('Origin Time (s)')\n",
    "ax2.set_xlabel('Longitude (deg)')\n",
    "\n",
    "ax3 = plt.subplot(\"223\")\n",
    "pc.plot_cov_ellipse(CmProj02,[sols[-1][2],sols[-1][0]], ax=ax3,nstd=l68,color='Blue',alpha=0.4,label='68% Confidence')\n",
    "pc.plot_cov_ellipse(CmProj02,[sols[-1][2],sols[-1][0]], ax=ax3,nstd=l95,color='Green',alpha=0.4,label='95% Confidence')\n",
    "ax3.set_xlim(sols[-1][2]-1.3*1.96*sig_param1,sols[-1][2]+1.3*1.96*sig_param1)\n",
    "ax3.set_ylim(sols[-1][0]-1.3*1.96*sig_param3,sols[-1][0]+1.3*1.96*sig_param3)\n",
    "ax3.set_xlabel('Latitude (deg)')\n",
    "ax3.set_ylabel('Origin Time (s)')\n",
    "\n",
    "plt.show()"
   ]
  },
  {
   "cell_type": "markdown",
   "metadata": {},
   "source": [
    "**Task 1** First write a python function to calculate the the arrival times of seismic phases at all stations."
   ]
  },
  {
   "cell_type": "code",
   "execution_count": null,
   "metadata": {},
   "outputs": [],
   "source": [
    "# Try it here! You can insert more cells by selecting Cell > Insert Cell Above/Below from the menu\n",
    "# bar, or by pressing Esc to enter command mode and then hitting A or B (for above/below). \n",
    "\n"
   ]
  }
 ],
 "metadata": {
  "kernelspec": {
   "display_name": "Python 3",
   "language": "python",
   "name": "python3"
  },
  "language_info": {
   "codemirror_mode": {
    "name": "ipython",
    "version": 3
   },
   "file_extension": ".py",
   "mimetype": "text/x-python",
   "name": "python",
   "nbconvert_exporter": "python",
   "pygments_lexer": "ipython3",
   "version": "3.7.6"
  }
 },
 "nbformat": 4,
 "nbformat_minor": 4
}
