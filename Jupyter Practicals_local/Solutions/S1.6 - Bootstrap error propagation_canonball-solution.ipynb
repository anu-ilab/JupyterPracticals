{
 "cells": [
  {
   "cell_type": "markdown",
   "metadata": {},
   "source": [
    "# 1.6:  Uncertainty estimation with the bootstrap"
   ]
  },
  {
   "cell_type": "markdown",
   "metadata": {},
   "source": [
    "*Andrew Valentine & Malcolm Sambridge - Research School of Earth Sciences, The Australian National University - Last updated Sept. 2019*"
   ]
  },
  {
   "cell_type": "markdown",
   "metadata": {},
   "source": [
    "This practical explores the use of the Bootstrap method for uncertainty estimation. Recall that both linear theory error estimation as well as Monte Carlo error propagation required nowledge of the size of the data errors in the form of a data covariance matrix.   The bootstrap can be used to estimate error in a solution without knowledge of  size of errors in the data. Instead it can be applied by assuming that the data errors, or data residuals more usually, are independently, identically distributed, IID. This can be a reasonable assumption if data error correlation is minimal.\n",
    "\n",
    "<img src=\"Figures/ballistics.png\" alt=\"Cannonball figure\" width=\"600\"/>\n",
    "Cannonball heights as a function of time."
   ]
  },
  {
   "cell_type": "markdown",
   "metadata": {},
   "source": [
    "\n",
    "A cannon ball is fired directly upwards from an unknown starting height\n",
    "above the surface, $m_1$, with unknown initial velocity, $m_2$ and\n",
    "unknown gravitational acceleration, $m_3$ . Newton’s laws of motion tell\n",
    "us that the relationship between position and time follows\n",
    "\n",
    "$$ y(t) = m_1 + m_2t -\\frac{1}{2}m_3t^2.\n",
    "\\label{eq:cannon} $$\n",
    "\n",
    "An experiment has been performed and heights, $y_i$, $(i=1,\\dots,8)$ are\n",
    "collected at fixed time intervals of a second. We obtain the data\n",
    "$y = [26.94, 33.45, 40.72 , 42.32, 44.30 , 47.19 , 43.33 , 40.13 ]$,\n",
    "$t = [1.0,2.0,\\dots,8.0]$."
   ]
  },
  {
   "cell_type": "markdown",
   "metadata": {},
   "source": [
    "First load some libraries."
   ]
  },
  {
   "cell_type": "code",
   "execution_count": 2,
   "metadata": {},
   "outputs": [],
   "source": [
    "%matplotlib inline\n",
    "import matplotlib.pyplot as plt\n",
    "from scipy import stats\n",
    "import numpy as np\n",
    "import math\n",
    "import pickle\n",
    "from inversionCourse import plotcovellipse as pc"
   ]
  },
  {
   "cell_type": "markdown",
   "metadata": {},
   "source": [
    "To find the unknowns $(m_1, m_2, m_3)$ we must fit a quadratic curve\n",
    "(as above) to the observed data (see figure 2). This can be achieved\n",
    "by solving the linear system ${\\bf d} = G{\\bf m}$, where ${\\bf d}$ is\n",
    "the data, ${\\bf m}$ is the vector of unknowns and $G$ is the matrix\n",
    "connecting the two, determined by the expression above. The solution to this is\n",
    "in your course exercise, but is equivalent to evaluating the expression\n",
    "\n",
    "$${\\bf m} = (G^TG)^{-1} G^T {\\bf d}\n",
    "\\label{eq:LS}$$\n",
    "\n",
    "All terms on the right hand side of this equation are known and so\n",
    "its a simple case of plugging in values to determine the best fit\n",
    "estimates of $(m_1, m_2, m_3)$.\n",
    "\n",
    "**Task 1:** Calculate the best fit values of the three unknowns (height, velocity\n",
    "and gravitational acceleration). We call these values\n",
    "$(m_1^0, m_2^0, m_3^0)$ our <span>**solution**</span>. Can you guess\n",
    "where this experiment took place?"
   ]
  },
  {
   "cell_type": "code",
   "execution_count": 3,
   "metadata": {},
   "outputs": [
    {
     "name": "stdout",
     "output_type": "stream",
     "text": [
      " Least squares solution\n",
      " [17.61607143 10.00761905  1.79238095]\n"
     ]
    },
    {
     "data": {
      "image/png": "[encoded data removed]",
      "text/plain": [
       "<Figure size 648x432 with 1 Axes>"
      ]
     },
     "metadata": {
      "needs_background": "light"
     },
     "output_type": "display_data"
    },
    {
     "name": "stdout",
     "output_type": "stream",
     "text": [
      "[[  1.    1.   -0.5]\n",
      " [  1.    2.   -2. ]\n",
      " [  1.    3.   -4.5]\n",
      " [  1.    4.   -8. ]\n",
      " [  1.    5.  -12.5]\n",
      " [  1.    6.  -18. ]\n",
      " [  1.    7.  -24.5]\n",
      " [  1.    8.  -32. ]]\n"
     ]
    }
   ],
   "source": [
    "# Try it here! You can insert more cells by selecting Cell > Insert Cell Above/Below from the menu\n",
    "# bar, or by pressing Esc to enter command mode and then hitting A or B (for above/below). \n",
    "\n",
    "yobs = [26.94, 33.45, 40.72, 42.32, 44.30, 47.19, 43.33, 40.13]\n",
    "t = np.linspace(1.0,8.0,len(yobs))\n",
    "G = np.transpose([np.ones(len(t)), t, -0.5*t*t,]) # G matrix\n",
    "\n",
    "sol = np.dot(np.linalg.inv(np.dot(np.transpose(G), G)), np.dot(np.transpose(G),yobs)) # Least squares solution \n",
    " \n",
    "print(' Least squares solution\\n',sol)\n",
    "\n",
    "t_fine = np.linspace(1.0,8.0,100)\n",
    "G_fine = np.transpose([np.ones(len(t_fine)), t_fine, -0.5*t_fine*t_fine,]) # G matrix\n",
    "\n",
    "ypredicted = np.dot(G_fine,sol) # predicted y values from least squares solution\n",
    "\n",
    "# ----------------------------------------------------------------------------   \n",
    "# plot data and least squares solution\n",
    "# ----------------------------------------------------------------------------\n",
    "\n",
    "fig, ax = plt.subplots(figsize=(9,6))\n",
    "\n",
    "ax.plot(t_fine, ypredicted,label='Least squares curve',color='b')\n",
    "ax.plot(t,yobs,'o',color=(0, 0, 0, 0.25),label='Observations')\n",
    "plt.legend(loc='upper left',framealpha=0.7)\n",
    "plt.title('Data and Least Squares curve')\n",
    "plt.xlabel('Time (s)')\n",
    "plt.ylabel('Elevation (m)')\n",
    "plt.show()\n",
    "print(G)"
   ]
  },
  {
   "cell_type": "markdown",
   "metadata": {},
   "source": [
    "\n",
    "The problem now is to use the <span>**bootstrap**</span> to determine\n",
    "how error in the data propagate into the estimated unknowns. We do not\n",
    "know the size of errors in the data but we can apply the bootstrap.\n",
    "Since the data are associated with increasing time it does not make\n",
    "sense to directly resample the data (because we could end up with two\n",
    "heights of the same value associated with different times). The data are\n",
    "not IID, since they belong to a trend. However we can still proceed by\n",
    "applying the bootstrap principle to the data residuals produced by the\n",
    "best fit solution., i.e. we have 8 residuals, $r_i$, where\n",
    "\n",
    "$$r_i = y_i - m^0_1 - m^0_2t_i +\\frac{1}{2}m^0_3t_i^2.\\quad (i=1,\\dots, 8).$$\n",
    "\n",
    "If we assume that the residuals are IID they can be re-sampled with\n",
    "replacement in the usual way to form multiple sets of 8 residual values\n",
    "$r^*_j, (j=1,\\dots,8)$ and new bootstrap data are constructed using this\n",
    "set of residuals by\n",
    "\n",
    "$$y^*_j = r^*_j + m^0_1 + m^0_2t_j -\\frac{1}{2}m^0_3t_j^2.\\quad (j=1,\\dots, 8).$$\n",
    "\n",
    "Using this approach the residuals are mixed between different data, and\n",
    "so each y values does not simply get its own residual back.\n",
    "\n",
    "**Task 2:**  Write a python script to build bootstrap data sets and\n",
    "for each of these calculate\n",
    "the bootstrap estimates of the unknowns. Lets call these\n",
    "$(m_1^i, m_2^i, m_3^i), (i=1,\\dots, B)$. The number of bootstrap samples\n",
    "$B$ is your choice but it should be at least 100.\n",
    "\n",
    "It can be instructive to <span>**plot the bootstrap samples**</span> as\n",
    "a scatter plot for the three pair of variables, i.e. $(m^i_1, m^i_2)$,\n",
    "$(m^i_2, m^i_3)$ and $(m^i_1, m^i_3)$, $(i=1,\\dots, B)$. They should\n",
    "look something like the Figure below."
   ]
  },
  {
   "cell_type": "markdown",
   "metadata": {},
   "source": [
    "<img src=\"Figures/bootstrap.png\" alt=\"Bootstrap figure\" width=\"400\"/>\n",
    "Bootstrap solutions and confidence ellipses distributed about the best fit solution."
   ]
  },
  {
   "cell_type": "code",
   "execution_count": 4,
   "metadata": {},
   "outputs": [
    {
     "name": "stderr",
     "output_type": "stream",
     "text": [
      "/Users/malcolm/opt/anaconda3/lib/python3.7/site-packages/ipykernel_launcher.py:14: MatplotlibDeprecationWarning: Passing non-integers as three-element position specification is deprecated since 3.3 and will be removed two minor releases later.\n",
      "  \n",
      "/Users/malcolm/opt/anaconda3/lib/python3.7/site-packages/ipykernel_launcher.py:23: MatplotlibDeprecationWarning: Passing non-integers as three-element position specification is deprecated since 3.3 and will be removed two minor releases later.\n",
      "/Users/malcolm/opt/anaconda3/lib/python3.7/site-packages/ipykernel_launcher.py:32: MatplotlibDeprecationWarning: Passing non-integers as three-element position specification is deprecated since 3.3 and will be removed two minor releases later.\n"
     ]
    },
    {
     "data": {
      "image/png": "[encoded data removed]",
      "text/plain": [
       "<Figure size 648x432 with 3 Axes>"
      ]
     },
     "metadata": {
      "needs_background": "light"
     },
     "output_type": "display_data"
    },
    {
     "name": "stdout",
     "output_type": "stream",
     "text": [
      "[17.61607143 10.00761905  1.79238095]\n"
     ]
    }
   ],
   "source": [
    "# Try it here! You can insert more cells by selecting Cell > Insert Cell Above/Below from the menu\n",
    "# bar, or by pressing Esc to enter command mode and then hitting A or B (for above/below). \n",
    "\n",
    "nBoot = 5000 # Number of bootstrap samples\n",
    "ypred = np.dot(G,sol) # predicted heights form LS solution\n",
    "res = np.dot(G,sol)-yobs # residuals of least squares solution\n",
    "solBoot = np.zeros((nBoot,np.shape(G)[1]))\n",
    "for i in range(nBoot):\n",
    "    yBoot = yobs + np.random.choice(res,size=len(res),replace=True) # random sample residuals with replacement\n",
    "    solBoot[i] = np.dot(np.linalg.inv(np.dot(np.transpose(G), G)), np.dot(np.transpose(G),yBoot)) # Least squares solution \n",
    "\n",
    "fig = plt.figure(figsize=(9,6))\n",
    "\n",
    "ax1 = plt.subplot(\"221\")\n",
    "xp, yp = solBoot.T[0], solBoot.T[1]\n",
    "ax1.plot(xp, yp, 'k+')\n",
    "ax1.plot(sol[0],sol[1], 'ro')\n",
    "#ax1.set_xlim(mls[0]-1.3*1.96*sig_param1,mls[0]+1.3*1.96*sig_param1)\n",
    "#ax1.set_ylim(mls[1]-1.3*1.96*sig_param2,mls[1]+1.3*1.96*sig_param2)\n",
    "ax1.set_xlabel('m1')\n",
    "ax1.set_ylabel('m2')\n",
    "\n",
    "ax2 = plt.subplot(\"222\")\n",
    "xp, yp =  solBoot.T[1], solBoot.T[2]\n",
    "ax2.plot(xp, yp, 'k+')\n",
    "ax2.plot(sol[1],sol[2], 'ro')\n",
    "#ax2.set_xlim(mls[1]-1.3*1.96*sig_param2,mls[1]+1.3*1.96*sig_param2)\n",
    "#ax2.set_ylim(mls[2]-1.3*1.96*sig_param3,mls[2]+1.3*1.96*sig_param3)\n",
    "ax2.set_xlabel('m2')\n",
    "ax2.set_ylabel('m3')\n",
    "\n",
    "ax3 = plt.subplot(\"223\")\n",
    "xp, yp =  solBoot.T[0], solBoot.T[2]\n",
    "ax3.plot(xp, yp, 'k+')\n",
    "ax3.plot(sol[0],sol[2], 'ro')\n",
    "#ax3.set_xlim(mls[0]-1.3*1.96*sig_param1,mls[0]+1.3*1.96*sig_param1)\n",
    "#ax3.set_ylim(mls[2]-1.3*1.96*sig_param3,mls[2]+1.3*1.96*sig_param3)\n",
    "ax3.set_xlabel('m1')\n",
    "ax3.set_ylabel('m3')\n",
    "#plt.tight_layout()\n",
    "fig.suptitle(\"Bootstrap solutions\", fontsize=20)\n",
    "\n",
    "plt.show()\n",
    "print(sol)"
   ]
  },
  {
   "cell_type": "code",
   "execution_count": 5,
   "metadata": {},
   "outputs": [
    {
     "data": {
      "text/plain": [
       "(5000, 3)"
      ]
     },
     "execution_count": 5,
     "metadata": {},
     "output_type": "execute_result"
    }
   ],
   "source": [
    "np.shape(solBoot)"
   ]
  },
  {
   "cell_type": "markdown",
   "metadata": {},
   "source": [
    "**Task 3:** From the bootstrap output samples\n",
    "$(m_1^i, m_2^i, m_3^i), (i=1,\\dots, B)$ calculate the i) <span>**the mean**</span>, ii) <span>**the\n",
    "variance**</span>, iii) <span>**the bias corrected solution**</span>,\n",
    "and iv) <span>**the 95% confidence intervals**</span> for each of the\n",
    "three unknowns. The bias correction is the mean of the differences between each Bootstrap solution and the estimator itself, which in this case is the best fit solution. This is subtracted from the best fit to produce the  <span>**the bias corrected solution**</span>.\n",
    "\n",
    "The mean should look similar to the best fit values and\n",
    "the bias should be small. The variance and confidence intervals\n",
    "characterize the error in the estimated values of the unknowns.\n",
    "\n"
   ]
  },
  {
   "cell_type": "code",
   "execution_count": 6,
   "metadata": {},
   "outputs": [
    {
     "name": "stdout",
     "output_type": "stream",
     "text": [
      " Bootstrap mean solution            [17.60458436 10.02046409  1.79532093]\n",
      " Bootstrap variance                 [1.70073721 0.44608315 0.02110039]\n",
      " Bootstrap bias corrected solution  [17.6275585   9.994774    1.78944098]\n",
      " Bootstrap 95% Confidence intervals: \n",
      " Parameter 1  17.628 [ 15.402,  20.367]\n",
      " Parameter 2   9.995 [  8.694,  11.277]\n",
      " Parameter 3   1.789 [  1.504,   2.072]\n"
     ]
    }
   ],
   "source": [
    "# Try it here! You can insert more cells by selecting Cell > Insert Cell Above/Below from the menu\n",
    "# bar, or by pressing Esc to enter command mode and then hitting A or B (for above/below). \n",
    "\n",
    "# Bootstrap mean\n",
    "print(' Bootstrap mean solution           ',np.mean(solBoot,axis=0))\n",
    "print(' Bootstrap variance                ',np.var(solBoot,axis=0))\n",
    "bcsol = sol - (np.mean(solBoot,axis=0)-sol)\n",
    "print(' Bootstrap bias corrected solution ',bcsol)\n",
    "p = np.percentile(solBoot,[2.5,97.5],axis=0)\n",
    "print(' Bootstrap 95% Confidence intervals: ')\n",
    "print(\" Parameter 1 {:7.3f} [{:7.3f}, {:7.3f}]\".format(bcsol[0],p[0,0],p[1,0]))\n",
    "print(\" Parameter 2 {:7.3f} [{:7.3f}, {:7.3f}]\".format(bcsol[1],p[0,1],p[1,1]))\n",
    "print(\" Parameter 3 {:7.3f} [{:7.3f}, {:7.3f}]\".format(bcsol[2],p[0,2],p[1,2]))\n"
   ]
  },
  {
   "cell_type": "code",
   "execution_count": 7,
   "metadata": {},
   "outputs": [
    {
     "data": {
      "text/plain": [
       "array([[ 1.70107742, -0.8007016 , -0.15750486],\n",
       "       [-0.8007016 ,  0.44617239,  0.09472504],\n",
       "       [-0.15750486,  0.09472504,  0.02110461]])"
      ]
     },
     "execution_count": 7,
     "metadata": {},
     "output_type": "execute_result"
    }
   ],
   "source": [
    "np.cov(solBoot.T)"
   ]
  },
  {
   "cell_type": "code",
   "execution_count": 9,
   "metadata": {},
   "outputs": [
    {
     "data": {
      "text/plain": [
       "(3, 5000)"
      ]
     },
     "execution_count": 9,
     "metadata": {},
     "output_type": "execute_result"
    }
   ],
   "source": [
    "np.shape(solBoot.T)"
   ]
  },
  {
   "cell_type": "code",
   "execution_count": null,
   "metadata": {},
   "outputs": [],
   "source": []
  }
 ],
 "metadata": {
  "kernelspec": {
   "display_name": "Python 3",
   "language": "python",
   "name": "python3"
  },
  "language_info": {
   "codemirror_mode": {
    "name": "ipython",
    "version": 3
   },
   "file_extension": ".py",
   "mimetype": "text/x-python",
   "name": "python",
   "nbconvert_exporter": "python",
   "pygments_lexer": "ipython3",
   "version": "3.7.8"
  }
 },
 "nbformat": 4,
 "nbformat_minor": 4
}
