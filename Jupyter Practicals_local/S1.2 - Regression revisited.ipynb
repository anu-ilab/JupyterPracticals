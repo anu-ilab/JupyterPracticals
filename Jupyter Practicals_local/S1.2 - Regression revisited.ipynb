{
 "cells": [
  {
   "cell_type": "markdown",
   "metadata": {
    "deletable": true,
    "editable": true
   },
   "source": [
    "# 1.2: Linear well-determined systems - Regression revisited #"
   ]
  },
  {
   "cell_type": "markdown",
   "metadata": {
    "deletable": true,
    "editable": true
   },
   "source": [
    "*Andrew Valentine & Malcolm Sambridge - Research School of Earth Sciences, The Australian National University - Last updated Sept. 2019*"
   ]
  },
  {
   "cell_type": "markdown",
   "metadata": {
    "deletable": true,
    "editable": true
   },
   "source": [
    "In this practical, you will write your own version of the function `curveFitting.curveFittingInv()` and use it to fit curves to datasets.\n",
    "\n",
    "In lectures, we talked about linear forward relationships, for which $\\mathbf{g(m)}=\\mathbf{Gm}$. We saw that the sum-of-squares misfit measure $\\phi(\\mathbf{m}) = \\left\\|\\mathbf{d}-\\mathbf{f(m)}\\right\\|_2^2$ has a minimum at the point $\\mathbf{m} = \\left(\\mathbf{G^TG}\\right)^\\mathbf{-1}\\mathbf{G^Td}$. This denotes the 'best-fitting' model as measured by $\\phi$. \n",
    "\n",
    "In the last practical, we began by looking at polynomial functions such as $y(x,\\mathbf{m}) = m_0 + m_1 x + m_2 x^2$. Although this is quadratic (i.e., non-linear) in x, it *is* linear in the model parameters $m_i$, because\n",
    "$$\\begin{align} y(x,\\mathbf{p}) + y(x,\\mathbf{q}) &= p_0 + p_1 x + p_2 x^2 +q_0+q_1 x + q_2 x^2\\\\&=(p_0+q_0) + (p_1+q_1)x + (p_2+q_2)x^2\\\\&=y(x,\\mathbf{p}+\\mathbf{q})\\,. \\end{align}$$\n",
    "Moreover, if we wished to compute $y(x)$ for multiple $x$-values simultaneously, we could choose to write $$ \\left(\\begin{array}{c}y_1\\\\y_2\\\\\\vdots\\\\y_N\\end{array}\\right) = \\left(\\begin{array}{ccc}1&x_1&x_1^2\\\\1&x_2&x_2^2\\\\\\vdots&\\vdots&\\vdots\\\\1&x_N&x_N^2\\end{array}\\right)\\left(\\begin{array}{c}m_0\\\\m_1\\\\m_2\\end{array}\\right)$$This clearly has the required general form, $\\mathbf{y=Gm}$, and so the best-fitting model can be identified using the least-squares algorithm.\n"
   ]
  },
  {
   "cell_type": "markdown",
   "metadata": {
    "deletable": true,
    "editable": true
   },
   "source": [
    "Again, we first load some libraries."
   ]
  },
  {
   "cell_type": "code",
   "execution_count": null,
   "metadata": {
    "collapsed": true,
    "deletable": true,
    "editable": true,
    "jupyter": {
     "outputs_hidden": true
    }
   },
   "outputs": [],
   "source": [
    "%matplotlib inline\n",
    "import numpy as np\n",
    "import matplotlib.pyplot as plt\n",
    "from inversionCourse import curveFitting"
   ]
  },
  {
   "cell_type": "markdown",
   "metadata": {
    "deletable": true,
    "editable": true
   },
   "source": [
    "To keep things simple, we begin by considering only the problem of fitting a straight line to a dataset. Let's create a dataset for the line $y(x) = 3x-2$ (and plot it, to check everything looks sensible!):"
   ]
  },
  {
   "cell_type": "code",
   "execution_count": null,
   "metadata": {
    "collapsed": false,
    "deletable": true,
    "editable": true,
    "jupyter": {
     "outputs_hidden": false
    }
   },
   "outputs": [],
   "source": [
    "npts = 25\n",
    "xpts = np.random.uniform(0,1,size=npts)\n",
    "modelInput = np.array([-2,3])\n",
    "ypts = curveFitting.curveFittingFwd(modelInput,xpts)+np.random.normal(0,0.5,size=npts)\n",
    "plt.figure(figsize=(8,6))\n",
    "plt.plot(xpts,ypts,'x')\n",
    "plt.plot(np.linspace(0,1,100),curveFitting.curveFittingFwd(modelInput,np.linspace(0,1,100)))"
   ]
  },
  {
   "cell_type": "markdown",
   "metadata": {
    "deletable": true,
    "editable": true
   },
   "source": [
    "**Task 1:** Write a function to estimate the straight line of best-fit for any dataset. It will probably look something like this:\n",
    "```python\n",
    "def fitStraightLine(xpts,ypts):\n",
    "    [...]\n",
    "    model = [...]\n",
    "    return model\n",
    "```\n",
    "To help you out, a list of functions and commands you may need to use is below; assume `M` is any NumPy array. Remember, you can type `name?` for some brief information about any function; otherwise, there is a wealth of detail available by using Google!\n",
    "\n",
    "`assert(...)`, `np.array(...)`,`np.linalg.inv(...)`, `np.zeros(...)`, `M.dot(...)`,`M.shape`, `M.T`.\n"
   ]
  },
  {
   "cell_type": "code",
   "execution_count": null,
   "metadata": {
    "collapsed": true,
    "deletable": true,
    "editable": true,
    "jupyter": {
     "outputs_hidden": true
    }
   },
   "outputs": [],
   "source": [
    "# Try it here! You can insert more cells by selecting Cell > Insert Cell Above/Below from the menu\n",
    "# bar, or by pressing Esc to enter command mode and then hitting A or B (for above/below). \n",
    "\n"
   ]
  },
  {
   "cell_type": "markdown",
   "metadata": {
    "deletable": true,
    "editable": true
   },
   "source": [
    "**Task 2:** Does it work? Try inverting the dataset we made earlier. Compare your results to those obtained by using `curveFitting.curveFittingInv()`."
   ]
  },
  {
   "cell_type": "code",
   "execution_count": null,
   "metadata": {
    "collapsed": true,
    "deletable": true,
    "editable": true,
    "jupyter": {
     "outputs_hidden": true
    }
   },
   "outputs": [],
   "source": [
    "# Try it here! You can insert more cells by selecting Cell > Insert Cell Above/Below from the menu\n",
    "# bar, or by pressing Esc to enter command mode and then hitting A or B (for above/below). \n",
    "\n"
   ]
  },
  {
   "cell_type": "markdown",
   "metadata": {
    "deletable": true,
    "editable": true
   },
   "source": [
    "**Task 3:** Once you've got the linear case working, make a new function which fits a general polynomial to a dataset. It will probably look something like this:\n",
    "```python\n",
    "def fitPolynomial(xpts,ypts,nparams):\n",
    "    [...]\n",
    "    model = [...]\n",
    "    return model\n",
    "```\n",
    "Test it by using `curveFitting.curveFittingFwd()` to generate some datasets, and compare the output of your code to the results obtained by using `curveFitting.curveFittingInv()`. You could also check that your `fitPolynomial()` gives the same answer as your `fitStraightLine()` if you set `nparams=2`."
   ]
  },
  {
   "cell_type": "code",
   "execution_count": null,
   "metadata": {
    "collapsed": true,
    "deletable": true,
    "editable": true,
    "jupyter": {
     "outputs_hidden": true
    }
   },
   "outputs": [],
   "source": [
    "# Try it here! You can insert more cells by selecting Cell > Insert Cell Above/Below from the menu\n",
    "# bar, or by pressing Esc to enter command mode and then hitting A or B (for above/below). \n",
    "\n"
   ]
  },
  {
   "cell_type": "markdown",
   "metadata": {
    "deletable": true,
    "editable": true
   },
   "source": [
    "**Task 4:** Can you extend your function to work with the Fourier and/or discrete basis functions? \n",
    "\n",
    "Tip: Start by making sure that you understand how the basis functions are defined, and that you can generate them correctly!"
   ]
  },
  {
   "cell_type": "code",
   "execution_count": null,
   "metadata": {
    "collapsed": true,
    "deletable": true,
    "editable": true,
    "jupyter": {
     "outputs_hidden": true
    }
   },
   "outputs": [],
   "source": [
    "# Try it here! You can insert more cells by selecting Cell > Insert Cell Above/Below from the menu\n",
    "# bar, or by pressing Esc to enter command mode and then hitting A or B (for above/below). \n",
    "\n"
   ]
  },
  {
   "cell_type": "markdown",
   "metadata": {
    "deletable": true,
    "editable": true
   },
   "source": [
    "**Task 5:** What happens if you try to fit a model with more free parameters than you have data points? Why?"
   ]
  },
  {
   "cell_type": "code",
   "execution_count": null,
   "metadata": {
    "collapsed": true,
    "deletable": true,
    "editable": true,
    "jupyter": {
     "outputs_hidden": true
    }
   },
   "outputs": [],
   "source": [
    "# Try it here! You can insert more cells by selecting Cell > Insert Cell Above/Below from the menu\n",
    "# bar, or by pressing Esc to enter command mode and then hitting A or B (for above/below). \n",
    "\n"
   ]
  }
 ],
 "metadata": {
  "kernelspec": {
   "display_name": "Python 3",
   "language": "python",
   "name": "python3"
  },
  "language_info": {
   "codemirror_mode": {
    "name": "ipython",
    "version": 3
   },
   "file_extension": ".py",
   "mimetype": "text/x-python",
   "name": "python",
   "nbconvert_exporter": "python",
   "pygments_lexer": "ipython3",
   "version": "3.7.8"
  }
 },
 "nbformat": 4,
 "nbformat_minor": 4
}
