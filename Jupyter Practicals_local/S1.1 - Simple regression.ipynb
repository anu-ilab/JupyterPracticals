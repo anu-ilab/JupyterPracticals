{
 "cells": [
  {
   "cell_type": "markdown",
   "metadata": {
    "deletable": true,
    "editable": true
   },
   "source": [
    "# 1.1: Introduction to Inverse Problems - Simple Regression"
   ]
  },
  {
   "cell_type": "markdown",
   "metadata": {
    "deletable": true,
    "editable": true
   },
   "source": [
    "*Andrew Valentine & Malcolm Sambridge - Research School of Earth Sciences, The Australian National University - Last updated Sept. 2019*"
   ]
  },
  {
   "cell_type": "markdown",
   "metadata": {
    "deletable": true,
    "editable": true
   },
   "source": [
    "This aim of this exercise is to explore some of the factors which affect inverse problems and their solutions. It is also an opportunity to refresh your memory about Python and get used to the Jupyter Notebook format if you haven't used it before.\n",
    "\n",
    "Each Jupyter Notebook is made up of a number of 'cells'. A cell can either be text or Python code. To edit a cell, click on it (double-click in the case of text). Once you've finished editing, hold down the Shift key and press Enter. This will execute the code (if a code cell), or render it nicely (if a text cell). Text cells are rendered using Markdown. This allows you to format text and use LaTeX-style commands to typeset mathematical formulae. Google will help you find more details about Markdown syntax (for example, [this site](https://github.com/adam-p/markdown-here/wiki/Markdown-Cheatsheet) provides a useful quick reference guide).  To change the type of a cell, select it and then click on Cell > Cell Type in the menu at the top. You can also press Esc (to enter 'Command Mode') and then press M (for Markdown) or Y (for Code).\n",
    "\n",
    "As you work through these practicals, make use of the Jupyter Notebook format to keep a record of what you have tried, and what you have discovered."
   ]
  },
  {
   "cell_type": "markdown",
   "metadata": {
    "deletable": true,
    "editable": true
   },
   "source": [
    "As in every Python program, we need to begin by loading some libraries. For Jupyter we also need the `%matplotlib inline` command, which ensures that figures are rendered properly within the Notebook. This could be omitted if you wanted to reproduce this practical as a 'standard' Python program."
   ]
  },
  {
   "cell_type": "code",
   "execution_count": null,
   "metadata": {
    "collapsed": false,
    "deletable": true,
    "editable": true,
    "jupyter": {
     "outputs_hidden": false
    }
   },
   "outputs": [],
   "source": [
    "%matplotlib inline\n",
    "import numpy as np\n",
    "import matplotlib.pyplot as plt\n",
    "from inversionCourse import curveFitting"
   ]
  },
  {
   "cell_type": "markdown",
   "metadata": {
    "deletable": true,
    "editable": true
   },
   "source": [
    "This practical focusses on regression - that is, fitting curves to datasets. The module `inversionCourse.curveFitting` provides two functions, `curveFittingFwd` and `curveFittingInv`, which implement the forward and inverse problems respectively.\n",
    "\n",
    "To begin with, we will work with polynomial curves, $$y(x) = \\sum_{n=0}^N m_n x^n\\,.$$\n",
    "Here, $N$ is the 'order' of the polynomial: if N=1 we have a straight line, if N=2 it will be a quadratic, and so on. The $m_n$ are the 'model coefficients'.\n",
    "\n",
    "The function `curveFitting.curveFittingFwd` computes $y(x)$ for any vector of model coefficients. The syntax is \n",
    "```python\n",
    "y = curveFitting.curveFittingFwd(model,x)\n",
    "```\n",
    "where `model` is a NumPy array of coefficients $(m_0,m_1,\\ldots,m_N)$, and where `x` is either a single point, or a NumPy array containing many points at which the function should be evaluated. The returned value, `y`, will be a single value or array to match `x`. Note that you do not need to explicitly specify the order of polynomial desired: the function will determine this automatically from the number of model coefficients supplied."
   ]
  },
  {
   "cell_type": "markdown",
   "metadata": {
    "deletable": true,
    "editable": true
   },
   "source": [
    "Here's an example of `curveFittingFwd` in action. We generate some random samples from $y=5x^2+2x+3$, add Gaussian random noise to them, and plot them. We also plot the curve itself."
   ]
  },
  {
   "cell_type": "code",
   "execution_count": null,
   "metadata": {
    "collapsed": false,
    "deletable": true,
    "editable": true,
    "jupyter": {
     "outputs_hidden": false
    }
   },
   "outputs": [],
   "source": [
    "modelInput=np.array([3,2,5])\n",
    "npts = 25\n",
    "xpts = np.random.uniform(0,1,npts)\n",
    "ypts = curveFitting.curveFittingFwd(modelInput,xpts) + np.random.normal(0,1,size=npts)\n",
    "plt.figure(figsize=(10,8))\n",
    "plt.plot(xpts,ypts,'x')\n",
    "plt.plot(np.linspace(0,1,100),curveFitting.curveFittingFwd(modelInput,np.linspace(0,1,100)))\n",
    "plt.xlabel('x')\n",
    "plt.ylabel('y')"
   ]
  },
  {
   "cell_type": "markdown",
   "metadata": {
    "deletable": true,
    "editable": true
   },
   "source": [
    "**Task 1:** Satisfy yourself that you understand how the above figure is generated, and what each of the different Python functions does. Remember, you can type `name?` and hit Shift-Enter to get help about object `name`. Can you make a similar figure for the function $y = 15 x^3-8x+3$?"
   ]
  },
  {
   "cell_type": "code",
   "execution_count": null,
   "metadata": {
    "collapsed": true,
    "deletable": true,
    "editable": true,
    "jupyter": {
     "outputs_hidden": true
    }
   },
   "outputs": [],
   "source": [
    "# Try it here! You can insert more cells by selecting Cell > Insert Cell Above/Below from the menu\n",
    "# bar, or by pressing Esc to enter command mode and then hitting A or B (for above/below). \n",
    "\n"
   ]
  },
  {
   "cell_type": "markdown",
   "metadata": {
    "deletable": true,
    "editable": true
   },
   "source": [
    "The function `curveFitting.curveFittingInv` implements the inverse problem, estimating the coefficients $m_n$ given a dataset of $(x_i,y_i)$ pairs. Soon, we will learn *how* this is done, but for now it can be treated as a 'black box'. Its syntax is\n",
    "```python\n",
    "m = curveFitting.curveFittingInv(x,y,nparam)\n",
    "```\n",
    "where `x` and `y` are NumPy arrays containing the dataset, and where `nparam` is the number of model parameters we wish to recover (i.e. $N+1$ where $N$ is the polynomial order). The returned value, `m`, is a NumPy array of lenghth `nparam` containing the best-fitting coefficients."
   ]
  },
  {
   "cell_type": "markdown",
   "metadata": {
    "deletable": true,
    "editable": true
   },
   "source": [
    "Let's try fitting a curve to the dataset we made earlier. We perform the inversion, and then generate a curve using the results."
   ]
  },
  {
   "cell_type": "code",
   "execution_count": null,
   "metadata": {
    "collapsed": false,
    "deletable": true,
    "editable": true,
    "jupyter": {
     "outputs_hidden": false
    }
   },
   "outputs": [],
   "source": [
    "order = 2\n",
    "model = curveFitting.curveFittingInv(xpts,ypts,order+1)\n",
    "print (\"Recovered model coefficients:\", model)\n",
    "print (\"Input model coefficients:\", modelInput)\n",
    "plt.figure(figsize=(10,8))\n",
    "plt.plot(xpts,ypts,'x',label='Data')\n",
    "plt.plot(np.linspace(0,1,100),curveFitting.curveFittingFwd(model,np.linspace(0,1,100)),label='Recovered')\n",
    "plt.plot(np.linspace(0,1,100),curveFitting.curveFittingFwd(modelInput,np.linspace(0,1,100)),label='Input')\n",
    "plt.xlabel('x')\n",
    "plt.ylabel('y')\n",
    "plt.legend()"
   ]
  },
  {
   "cell_type": "markdown",
   "metadata": {
    "deletable": true,
    "editable": true
   },
   "source": [
    "**Task 2:** Is the recovered model a good fit to the data? Do the recovered model coefficients agree well with the input coefficients? How is performance affected by:\n",
    "- The number of data points?\n",
    "- The polynomial order of the input model?\n",
    "- The polynomial order of the model sought (try inverting for a model of different polynomial order from that used to generate the data)?\n",
    "- The noise level?\n"
   ]
  },
  {
   "cell_type": "code",
   "execution_count": null,
   "metadata": {
    "collapsed": true,
    "deletable": true,
    "editable": true,
    "jupyter": {
     "outputs_hidden": true
    }
   },
   "outputs": [],
   "source": [
    "# Try it here! You can insert more cells by selecting Cell > Insert Cell Above/Below from the menu\n",
    "# bar, or by pressing Esc to enter command mode and then hitting A or B (for above/below). \n",
    "\n"
   ]
  },
  {
   "cell_type": "markdown",
   "metadata": {
    "deletable": true,
    "editable": true
   },
   "source": [
    "Of course, not all functions are polynomials. Other common forms include:\n",
    "\n",
    "- Fourier series: $y(x) = \\frac{m_0}{2}+\\sum_{n=1}^N \\left\\{m_{2n-1} \\sin\\left(\\frac{2n \\pi x}{L}\\right)+m_{2n} \\cos\\left(\\frac{2n\\pi x}{L}\\right)\\right\\}$\n",
    "\n",
    "- Discretised functions: $y(x)=m_n$ where $\\frac{nL}{N+1}\\le x\\le\\frac{(n+1)L}{N+1}$ and $n=0\\ldots N$\n",
    "\n",
    "In both cases, we have introduced a quantity `L` which represents the length of the domain, i.e. we are restricting ourselves to $x$-values satisfying $0\\le x \\le L$. Note that the Fourier model is specified by a total of $(2N+1)$ parameters; the discrete model has $(N+1)$ parameters.\n",
    "\n",
    "The functions `curveFitting.curveFittingFwd` and `curveFitting.curveFittingInv` can handle both of these if we provide an additional argument, `basis='fourier'` or `basis='discrete'`, when calling the function. (The default case corresponds to `basis='polynomial'`.) We assume that $L=1$, although this can be changed via the optional argument `domainLength=L`."
   ]
  },
  {
   "cell_type": "markdown",
   "metadata": {
    "deletable": true,
    "editable": true
   },
   "source": [
    "Let's see how it works."
   ]
  },
  {
   "cell_type": "code",
   "execution_count": null,
   "metadata": {
    "collapsed": false,
    "deletable": true,
    "editable": true,
    "jupyter": {
     "outputs_hidden": false
    }
   },
   "outputs": [],
   "source": [
    "modelInput = np.array([1,0.3,0.2,0.,0.6,1.3,-0.3])\n",
    "inputBasis='fourier'\n",
    "npts = 25\n",
    "xpts = np.random.uniform(0,1,size=npts)\n",
    "ypts = curveFitting.curveFittingFwd(modelInput,xpts,basis=inputBasis)+np.random.normal(0.,0.5,size=npts)\n",
    "plt.figure(figsize=(10,8))\n",
    "plt.plot(xpts,ypts,'x',label='Data')\n",
    "plt.plot(np.linspace(0,1,100),curveFitting.curveFittingFwd(modelInput,np.linspace(0,1,100),basis=inputBasis)\n",
    "        ,label='Input')\n",
    "nparam = 7\n",
    "inversionBasis='fourier'\n",
    "model = curveFitting.curveFittingInv(xpts,ypts,nparam,basis=inversionBasis)\n",
    "print (\"Recovered model coefficients:\", model)\n",
    "print (\"Input model coefficients:\", modelInput)\n",
    "plt.plot(np.linspace(0,1,100),curveFitting.curveFittingFwd(model,np.linspace(0,1,100),basis=inversionBasis)\n",
    "         ,label='Recovered')\n",
    "plt.legend()"
   ]
  },
  {
   "cell_type": "markdown",
   "metadata": {
    "deletable": true,
    "editable": true
   },
   "source": [
    "**Task 3:** Explore performance with the different types of functions. Some things to think about:\n",
    "- What happens if you use the 'discrete' type instead of the 'fourier' type?\n",
    "- What sorts of datasets are suited to inversion using each type?\n",
    "- What happens if you generate a dataset using one type, and then invert it using a different type?\n",
    "- What happens if you solve for a model with more (or fewer) parameters than the input model?\n",
    "- How are results affected if you change the number of data points, or the noise level on those data points?"
   ]
  },
  {
   "cell_type": "code",
   "execution_count": null,
   "metadata": {
    "collapsed": true,
    "deletable": true,
    "editable": true,
    "jupyter": {
     "outputs_hidden": true
    }
   },
   "outputs": [],
   "source": [
    "# Try it here! You can insert more cells by selecting Cell > Insert Cell Above/Below from the menu\n",
    "# bar, or by pressing Esc to enter command mode and then hitting A or B (for above/below). \n",
    "\n"
   ]
  },
  {
   "cell_type": "markdown",
   "metadata": {
    "deletable": true,
    "editable": true
   },
   "source": [
    "All of the different families of models share the same general form, $$y(x) = \\sum_{n=0}^N m_n \\phi_n(x)$$ where $\\phi_n(x)$ is the n-th 'basis function'. Normally, all $(N+1)$ basis functions belong to a single 'family'. It is often instructive to visualise the individual basis vectors that are used to build the model. For example,"
   ]
  },
  {
   "cell_type": "code",
   "execution_count": null,
   "metadata": {
    "collapsed": false,
    "deletable": true,
    "editable": true,
    "jupyter": {
     "outputs_hidden": false
    }
   },
   "outputs": [],
   "source": [
    "basis='polynomial'\n",
    "nx=3\n",
    "ny=3\n",
    "plt.figure(figsize=(10,8))\n",
    "for i in range(nx*ny):\n",
    "    plt.subplot(ny,nx,i+1)\n",
    "    model = np.zeros([nx*ny])\n",
    "    model[i] = 1\n",
    "    plt.plot(np.linspace(0,1,100),curveFitting.curveFittingFwd(model,np.linspace(0,1,100),basis=basis))\n",
    "    plt.title(u'$\\phi_{%i}(x)$'%i)\n",
    "    plt.xlabel('x')\n",
    "plt.tight_layout()"
   ]
  },
  {
   "cell_type": "markdown",
   "metadata": {
    "deletable": true,
    "editable": true
   },
   "source": [
    "**Task 4:** Can you write down expressions for each basis function? For example, it is apparent that $\\phi_0(x)=1$. What is $\\phi_n(x)$? What do the basis functions for the other families look like? What is their functional form?"
   ]
  },
  {
   "cell_type": "code",
   "execution_count": null,
   "metadata": {
    "collapsed": true,
    "deletable": true,
    "editable": true,
    "jupyter": {
     "outputs_hidden": true
    }
   },
   "outputs": [],
   "source": [
    "# Try it here! You can insert more cells by selecting Cell > Insert Cell Above/Below from the menu\n",
    "# bar, or by pressing Esc to enter command mode and then hitting A or B (for above/below). \n",
    "\n"
   ]
  },
  {
   "cell_type": "markdown",
   "metadata": {
    "deletable": true,
    "editable": true
   },
   "source": [
    "So far, we have considered examples where we have good data coverage - our $x$-samples are uniformly distributed across the entire $x$-range we are interested in. However, this is often not the case.\n",
    "\n",
    "**Task 5:** Investigate what happens if there is 'missing data'.\n",
    "\n",
    "To generate sample points, you might do something like this:\n",
    "```python\n",
    "xpts = np.zeros([25])\n",
    "xpts[0:10] = np.random.uniform(0,0.2,size=10)\n",
    "xpts[10:25] = np.random.uniform(0.6,1,size=15)\n",
    "```\n",
    "Does it make any difference if the missing data is in the middle of the range, compared to at one edge?"
   ]
  },
  {
   "cell_type": "code",
   "execution_count": null,
   "metadata": {
    "collapsed": true,
    "deletable": true,
    "editable": true,
    "jupyter": {
     "outputs_hidden": true
    }
   },
   "outputs": [],
   "source": [
    "# Try it here! You can insert more cells by selecting Cell > Insert Cell Above/Below from the menu\n",
    "# bar, or by pressing Esc to enter command mode and then hitting A or B (for above/below). \n",
    "\n"
   ]
  }
 ],
 "metadata": {
  "kernelspec": {
   "display_name": "Python 3",
   "language": "python",
   "name": "python3"
  },
  "language_info": {
   "codemirror_mode": {
    "name": "ipython",
    "version": 3
   },
   "file_extension": ".py",
   "mimetype": "text/x-python",
   "name": "python",
   "nbconvert_exporter": "python",
   "pygments_lexer": "ipython3",
   "version": "3.7.8"
  }
 },
 "nbformat": 4,
 "nbformat_minor": 4
}
